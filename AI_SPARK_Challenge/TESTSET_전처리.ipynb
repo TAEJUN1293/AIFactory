{
  "nbformat": 4,
  "nbformat_minor": 0,
  "metadata": {
    "colab": {
      "provenance": [],
      "machine_shape": "hm"
    },
    "kernelspec": {
      "name": "python3",
      "display_name": "Python 3"
    },
    "language_info": {
      "name": "python"
    },
    "accelerator": "GPU",
    "gpuClass": "standard"
  },
  "cells": [
    {
      "cell_type": "code",
      "source": [
        "pip install catboost"
      ],
      "metadata": {
        "colab": {
          "base_uri": "https://localhost:8080/"
        },
        "id": "3C2ynIXVyEw6",
        "outputId": "a4a1463e-448e-49da-bf8b-5bb3eda7ef00"
      },
      "execution_count": 3,
      "outputs": [
        {
          "output_type": "stream",
          "name": "stdout",
          "text": [
            "Looking in indexes: https://pypi.org/simple, https://us-python.pkg.dev/colab-wheels/public/simple/\n",
            "Requirement already satisfied: catboost in /usr/local/lib/python3.10/dist-packages (1.1.1)\n",
            "Requirement already satisfied: numpy>=1.16.0 in /usr/local/lib/python3.10/dist-packages (from catboost) (1.22.4)\n",
            "Requirement already satisfied: pandas>=0.24.0 in /usr/local/lib/python3.10/dist-packages (from catboost) (1.5.3)\n",
            "Requirement already satisfied: matplotlib in /usr/local/lib/python3.10/dist-packages (from catboost) (3.7.1)\n",
            "Requirement already satisfied: scipy in /usr/local/lib/python3.10/dist-packages (from catboost) (1.10.1)\n",
            "Requirement already satisfied: graphviz in /usr/local/lib/python3.10/dist-packages (from catboost) (0.20.1)\n",
            "Requirement already satisfied: plotly in /usr/local/lib/python3.10/dist-packages (from catboost) (5.13.1)\n",
            "Requirement already satisfied: six in /usr/local/lib/python3.10/dist-packages (from catboost) (1.16.0)\n",
            "Requirement already satisfied: python-dateutil>=2.8.1 in /usr/local/lib/python3.10/dist-packages (from pandas>=0.24.0->catboost) (2.8.2)\n",
            "Requirement already satisfied: pytz>=2020.1 in /usr/local/lib/python3.10/dist-packages (from pandas>=0.24.0->catboost) (2022.7.1)\n",
            "Requirement already satisfied: pillow>=6.2.0 in /usr/local/lib/python3.10/dist-packages (from matplotlib->catboost) (8.4.0)\n",
            "Requirement already satisfied: cycler>=0.10 in /usr/local/lib/python3.10/dist-packages (from matplotlib->catboost) (0.11.0)\n",
            "Requirement already satisfied: pyparsing>=2.3.1 in /usr/local/lib/python3.10/dist-packages (from matplotlib->catboost) (3.0.9)\n",
            "Requirement already satisfied: fonttools>=4.22.0 in /usr/local/lib/python3.10/dist-packages (from matplotlib->catboost) (4.39.3)\n",
            "Requirement already satisfied: packaging>=20.0 in /usr/local/lib/python3.10/dist-packages (from matplotlib->catboost) (23.1)\n",
            "Requirement already satisfied: kiwisolver>=1.0.1 in /usr/local/lib/python3.10/dist-packages (from matplotlib->catboost) (1.4.4)\n",
            "Requirement already satisfied: contourpy>=1.0.1 in /usr/local/lib/python3.10/dist-packages (from matplotlib->catboost) (1.0.7)\n",
            "Requirement already satisfied: tenacity>=6.2.0 in /usr/local/lib/python3.10/dist-packages (from plotly->catboost) (8.2.2)\n"
          ]
        }
      ]
    },
    {
      "cell_type": "code",
      "execution_count": 4,
      "metadata": {
        "id": "BNNXUrCDYalI"
      },
      "outputs": [],
      "source": [
        "import pandas as pd\n",
        "import numpy as np\n",
        "import seaborn as sns\n",
        "import matplotlib.pyplot as plt\n",
        "import math\n",
        "import tqdm\n",
        "import pdb\n",
        "from scipy.sparse import csr_matrix, linalg\n",
        "from sklearn.model_selection import train_test_split\n",
        "from sklearn.metrics import mean_squared_error\n",
        "import warnings\n",
        "\n",
        "import pandas as pd\n",
        "import numpy as np\n",
        "from sklearn.linear_model import LinearRegression\n",
        "from sklearn.model_selection import train_test_split\n",
        "from sklearn.preprocessing import OneHotEncoder\n",
        "from sklearn.metrics import mean_squared_error, r2_score\n",
        "#import lightgbm as lgb\n",
        "\n",
        "import random\n",
        "import os\n",
        "import re\n",
        "\n",
        "# import optuna\n",
        "# from optuna import Trial, visualization\n",
        "# from optuna.samplers import TPESampler\n",
        "\n",
        "from sklearn.model_selection import train_test_split\n",
        "from catboost import CatBoostRegressor\n",
        "\n",
        "from sklearn.metrics import mean_absolute_error\n",
        "\n",
        "warnings.filterwarnings(action='ignore')"
      ]
    },
    {
      "cell_type": "code",
      "source": [
        "from google.colab import drive\n",
        "drive.mount('/content/drive')"
      ],
      "metadata": {
        "colab": {
          "base_uri": "https://localhost:8080/"
        },
        "id": "3VxlQCP1ZB2O",
        "outputId": "6a3f3448-3602-4bfb-e833-bc69d7509ae9"
      },
      "execution_count": 5,
      "outputs": [
        {
          "output_type": "stream",
          "name": "stdout",
          "text": [
            "Mounted at /content/drive\n"
          ]
        }
      ]
    },
    {
      "cell_type": "markdown",
      "source": [
        "# 1. 지점 결측치 채우기"
      ],
      "metadata": {
        "id": "VCkGCe4MZTEE"
      }
    },
    {
      "cell_type": "code",
      "source": [
        "path = '/content/drive/MyDrive/TEST_AWS/'\n",
        "file_list = os.listdir(path)\n",
        "file_list"
      ],
      "metadata": {
        "colab": {
          "base_uri": "https://localhost:8080/"
        },
        "id": "Xd0PNoYiZRBj",
        "outputId": "7b8411f3-354a-45c8-e5e1-73fe63e74bc4"
      },
      "execution_count": 73,
      "outputs": [
        {
          "output_type": "execute_result",
          "data": {
            "text/plain": [
              "['옹도.csv',\n",
              " '세종전의.csv',\n",
              " '세천.csv',\n",
              " '세종금남.csv',\n",
              " '오월드.csv',\n",
              " '세종연서.csv',\n",
              " '세종고운.csv',\n",
              " '양화.csv',\n",
              " '안도.csv',\n",
              " '예산.csv',\n",
              " '아산.csv',\n",
              " '성거.csv',\n",
              " '계룡.csv',\n",
              " '대산.csv',\n",
              " '북격렬비도.csv',\n",
              " '공주.csv',\n",
              " '당진.csv',\n",
              " '논산.csv',\n",
              " '홍성죽도.csv',\n",
              " '서천.csv',\n",
              " '대천항.csv',\n",
              " '홍북.csv',\n",
              " '춘장대.csv',\n",
              " '청양.csv',\n",
              " '호도.csv',\n",
              " '장동.csv',\n",
              " '유구.csv',\n",
              " '태안.csv',\n",
              " '정산.csv',\n",
              " '정안.csv']"
            ]
          },
          "metadata": {},
          "execution_count": 73
        }
      ]
    },
    {
      "cell_type": "code",
      "source": [
        "for file in file_list:\n",
        "  f = pd.read_csv(path + file)\n",
        "  f['지점'].fillna(f['지점'][0], inplace = True)\n",
        "  f.to_csv(path + file, index = False)\n"
      ],
      "metadata": {
        "id": "nKCmi3qQaOUk"
      },
      "execution_count": 7,
      "outputs": []
    },
    {
      "cell_type": "code",
      "source": [
        "sample = pd.read_csv(path + '공주.csv')\n",
        "sample.info()"
      ],
      "metadata": {
        "colab": {
          "base_uri": "https://localhost:8080/"
        },
        "id": "XO3cCXxdc7Re",
        "outputId": "3dda0876-b07b-4eb9-a36e-82ff3b7ab379"
      },
      "execution_count": 8,
      "outputs": [
        {
          "output_type": "stream",
          "name": "stdout",
          "text": [
            "<class 'pandas.core.frame.DataFrame'>\n",
            "RangeIndex: 7728 entries, 0 to 7727\n",
            "Data columns (total 12 columns):\n",
            " #   Column      Non-Null Count  Dtype  \n",
            "---  ------      --------------  -----  \n",
            " 0   Unnamed: 0  7728 non-null   int64  \n",
            " 1   연도          7728 non-null   int64  \n",
            " 2   지점          7728 non-null   object \n",
            " 3   기온(°C)      3120 non-null   float64\n",
            " 4   풍향(deg)     3120 non-null   float64\n",
            " 5   풍속(m/s)     3120 non-null   float64\n",
            " 6   강수량(mm)     3120 non-null   float64\n",
            " 7   습도(%)       3120 non-null   float64\n",
            " 8   지역번호        7728 non-null   int64  \n",
            " 9   월           7728 non-null   int64  \n",
            " 10  일           7728 non-null   int64  \n",
            " 11  시           7728 non-null   int64  \n",
            "dtypes: float64(5), int64(6), object(1)\n",
            "memory usage: 724.6+ KB\n"
          ]
        }
      ]
    },
    {
      "cell_type": "markdown",
      "source": [
        "# 2. 날짜, 시간 전처리 "
      ],
      "metadata": {
        "id": "nzfjZZLfc-jK"
      }
    },
    {
      "cell_type": "code",
      "source": [
        "# # 일시 컬럼 이용해 월, 일, 시, 분 단위로 컬럼 split\n",
        "# def date_split(df):\n",
        "#     df['날짜'] = df.일시.str.split().str[0]\n",
        "#     df['시간'] = df.일시.str.split().str[1]\n",
        "#     df['월'] = df.날짜.str.split('-').str[0]\n",
        "#     df['일'] = df.날짜.str.split('-').str[1]\n",
        "#     df['시'] = df.시간.str.split(':').str[0]\n",
        "    \n",
        "#     # 1시간마다 측정했으므로 분 단위 필요 X\n",
        "#     # df['분'] = df.시간.str.split(':').str[1]\n",
        "    \n",
        "#     # 분할했으니 기존 컬럼 제거\n",
        "#     df.drop(['날짜', '시간', '일시'],axis = 1, inplace=True)\n",
        "    \n",
        "#     # Split 진행한 컬럼들 형변환\n",
        "#     df['월'] = df['월'].astype('int64')\n",
        "#     df['일'] = df['일'].astype('int64')\n",
        "#     df['시'] = df['시'].astype('int64')\n",
        "#     return df\n",
        "\n",
        "# for file in file_list:\n",
        "#   f = pd.read_csv(path + file)\n",
        "#   f = date_split(f)\n",
        "#   f.to_csv(path + file, index = False)"
      ],
      "metadata": {
        "colab": {
          "base_uri": "https://localhost:8080/",
          "height": 395
        },
        "id": "RVJ6f4crdGzj",
        "outputId": "eeb6c9a2-1aca-4587-c5c3-72c9beb85170"
      },
      "execution_count": 9,
      "outputs": [
        {
          "output_type": "error",
          "ename": "AttributeError",
          "evalue": "ignored",
          "traceback": [
            "\u001b[0;31m---------------------------------------------------------------------------\u001b[0m",
            "\u001b[0;31mAttributeError\u001b[0m                            Traceback (most recent call last)",
            "\u001b[0;32m<ipython-input-9-e1c321c0e6f0>\u001b[0m in \u001b[0;36m<cell line: 21>\u001b[0;34m()\u001b[0m\n\u001b[1;32m     21\u001b[0m \u001b[0;32mfor\u001b[0m \u001b[0mfile\u001b[0m \u001b[0;32min\u001b[0m \u001b[0mfile_list\u001b[0m\u001b[0;34m:\u001b[0m\u001b[0;34m\u001b[0m\u001b[0;34m\u001b[0m\u001b[0m\n\u001b[1;32m     22\u001b[0m   \u001b[0mf\u001b[0m \u001b[0;34m=\u001b[0m \u001b[0mpd\u001b[0m\u001b[0;34m.\u001b[0m\u001b[0mread_csv\u001b[0m\u001b[0;34m(\u001b[0m\u001b[0mpath\u001b[0m \u001b[0;34m+\u001b[0m \u001b[0mfile\u001b[0m\u001b[0;34m)\u001b[0m\u001b[0;34m\u001b[0m\u001b[0;34m\u001b[0m\u001b[0m\n\u001b[0;32m---> 23\u001b[0;31m   \u001b[0mf\u001b[0m \u001b[0;34m=\u001b[0m \u001b[0mdate_split\u001b[0m\u001b[0;34m(\u001b[0m\u001b[0mf\u001b[0m\u001b[0;34m)\u001b[0m\u001b[0;34m\u001b[0m\u001b[0;34m\u001b[0m\u001b[0m\n\u001b[0m\u001b[1;32m     24\u001b[0m   \u001b[0mf\u001b[0m\u001b[0;34m.\u001b[0m\u001b[0mto_csv\u001b[0m\u001b[0;34m(\u001b[0m\u001b[0mpath\u001b[0m \u001b[0;34m+\u001b[0m \u001b[0mfile\u001b[0m\u001b[0;34m,\u001b[0m \u001b[0mindex\u001b[0m \u001b[0;34m=\u001b[0m \u001b[0;32mFalse\u001b[0m\u001b[0;34m)\u001b[0m\u001b[0;34m\u001b[0m\u001b[0;34m\u001b[0m\u001b[0m\n",
            "\u001b[0;32m<ipython-input-9-e1c321c0e6f0>\u001b[0m in \u001b[0;36mdate_split\u001b[0;34m(df)\u001b[0m\n\u001b[1;32m      1\u001b[0m \u001b[0;31m# 일시 컬럼 이용해 월, 일, 시, 분 단위로 컬럼 split\u001b[0m\u001b[0;34m\u001b[0m\u001b[0;34m\u001b[0m\u001b[0m\n\u001b[1;32m      2\u001b[0m \u001b[0;32mdef\u001b[0m \u001b[0mdate_split\u001b[0m\u001b[0;34m(\u001b[0m\u001b[0mdf\u001b[0m\u001b[0;34m)\u001b[0m\u001b[0;34m:\u001b[0m\u001b[0;34m\u001b[0m\u001b[0;34m\u001b[0m\u001b[0m\n\u001b[0;32m----> 3\u001b[0;31m     \u001b[0mdf\u001b[0m\u001b[0;34m[\u001b[0m\u001b[0;34m'날짜'\u001b[0m\u001b[0;34m]\u001b[0m \u001b[0;34m=\u001b[0m \u001b[0mdf\u001b[0m\u001b[0;34m.\u001b[0m\u001b[0m일시\u001b[0m\u001b[0;34m.\u001b[0m\u001b[0mstr\u001b[0m\u001b[0;34m.\u001b[0m\u001b[0msplit\u001b[0m\u001b[0;34m(\u001b[0m\u001b[0;34m)\u001b[0m\u001b[0;34m.\u001b[0m\u001b[0mstr\u001b[0m\u001b[0;34m[\u001b[0m\u001b[0;36m0\u001b[0m\u001b[0;34m]\u001b[0m\u001b[0;34m\u001b[0m\u001b[0;34m\u001b[0m\u001b[0m\n\u001b[0m\u001b[1;32m      4\u001b[0m     \u001b[0mdf\u001b[0m\u001b[0;34m[\u001b[0m\u001b[0;34m'시간'\u001b[0m\u001b[0;34m]\u001b[0m \u001b[0;34m=\u001b[0m \u001b[0mdf\u001b[0m\u001b[0;34m.\u001b[0m\u001b[0m일시\u001b[0m\u001b[0;34m.\u001b[0m\u001b[0mstr\u001b[0m\u001b[0;34m.\u001b[0m\u001b[0msplit\u001b[0m\u001b[0;34m(\u001b[0m\u001b[0;34m)\u001b[0m\u001b[0;34m.\u001b[0m\u001b[0mstr\u001b[0m\u001b[0;34m[\u001b[0m\u001b[0;36m1\u001b[0m\u001b[0;34m]\u001b[0m\u001b[0;34m\u001b[0m\u001b[0;34m\u001b[0m\u001b[0m\n\u001b[1;32m      5\u001b[0m     \u001b[0mdf\u001b[0m\u001b[0;34m[\u001b[0m\u001b[0;34m'월'\u001b[0m\u001b[0;34m]\u001b[0m \u001b[0;34m=\u001b[0m \u001b[0mdf\u001b[0m\u001b[0;34m.\u001b[0m\u001b[0m날짜\u001b[0m\u001b[0;34m.\u001b[0m\u001b[0mstr\u001b[0m\u001b[0;34m.\u001b[0m\u001b[0msplit\u001b[0m\u001b[0;34m(\u001b[0m\u001b[0;34m'-'\u001b[0m\u001b[0;34m)\u001b[0m\u001b[0;34m.\u001b[0m\u001b[0mstr\u001b[0m\u001b[0;34m[\u001b[0m\u001b[0;36m0\u001b[0m\u001b[0;34m]\u001b[0m\u001b[0;34m\u001b[0m\u001b[0;34m\u001b[0m\u001b[0m\n",
            "\u001b[0;32m/usr/local/lib/python3.10/dist-packages/pandas/core/generic.py\u001b[0m in \u001b[0;36m__getattr__\u001b[0;34m(self, name)\u001b[0m\n\u001b[1;32m   5900\u001b[0m         ):\n\u001b[1;32m   5901\u001b[0m             \u001b[0;32mreturn\u001b[0m \u001b[0mself\u001b[0m\u001b[0;34m[\u001b[0m\u001b[0mname\u001b[0m\u001b[0;34m]\u001b[0m\u001b[0;34m\u001b[0m\u001b[0;34m\u001b[0m\u001b[0m\n\u001b[0;32m-> 5902\u001b[0;31m         \u001b[0;32mreturn\u001b[0m \u001b[0mobject\u001b[0m\u001b[0;34m.\u001b[0m\u001b[0m__getattribute__\u001b[0m\u001b[0;34m(\u001b[0m\u001b[0mself\u001b[0m\u001b[0;34m,\u001b[0m \u001b[0mname\u001b[0m\u001b[0;34m)\u001b[0m\u001b[0;34m\u001b[0m\u001b[0;34m\u001b[0m\u001b[0m\n\u001b[0m\u001b[1;32m   5903\u001b[0m \u001b[0;34m\u001b[0m\u001b[0m\n\u001b[1;32m   5904\u001b[0m     \u001b[0;32mdef\u001b[0m \u001b[0m__setattr__\u001b[0m\u001b[0;34m(\u001b[0m\u001b[0mself\u001b[0m\u001b[0;34m,\u001b[0m \u001b[0mname\u001b[0m\u001b[0;34m:\u001b[0m \u001b[0mstr\u001b[0m\u001b[0;34m,\u001b[0m \u001b[0mvalue\u001b[0m\u001b[0;34m)\u001b[0m \u001b[0;34m->\u001b[0m \u001b[0;32mNone\u001b[0m\u001b[0;34m:\u001b[0m\u001b[0;34m\u001b[0m\u001b[0;34m\u001b[0m\u001b[0m\n",
            "\u001b[0;31mAttributeError\u001b[0m: 'DataFrame' object has no attribute '일시'"
          ]
        }
      ]
    },
    {
      "cell_type": "code",
      "source": [
        "sample = pd.read_csv(path + '공주.csv')\n",
        "sample.info()"
      ],
      "metadata": {
        "colab": {
          "base_uri": "https://localhost:8080/"
        },
        "id": "qOftrXfRdrkE",
        "outputId": "3023b352-76a8-4bb4-96b4-dc9b4869bc89"
      },
      "execution_count": 10,
      "outputs": [
        {
          "output_type": "stream",
          "name": "stdout",
          "text": [
            "<class 'pandas.core.frame.DataFrame'>\n",
            "RangeIndex: 7728 entries, 0 to 7727\n",
            "Data columns (total 12 columns):\n",
            " #   Column      Non-Null Count  Dtype  \n",
            "---  ------      --------------  -----  \n",
            " 0   Unnamed: 0  7728 non-null   int64  \n",
            " 1   연도          7728 non-null   int64  \n",
            " 2   지점          7728 non-null   object \n",
            " 3   기온(°C)      3120 non-null   float64\n",
            " 4   풍향(deg)     3120 non-null   float64\n",
            " 5   풍속(m/s)     3120 non-null   float64\n",
            " 6   강수량(mm)     3120 non-null   float64\n",
            " 7   습도(%)       3120 non-null   float64\n",
            " 8   지역번호        7728 non-null   int64  \n",
            " 9   월           7728 non-null   int64  \n",
            " 10  일           7728 non-null   int64  \n",
            " 11  시           7728 non-null   int64  \n",
            "dtypes: float64(5), int64(6), object(1)\n",
            "memory usage: 724.6+ KB\n"
          ]
        }
      ]
    },
    {
      "cell_type": "markdown",
      "source": [
        "## TEST SET 병합\n",
        "\n",
        "- Matching해서 하나씩 하면 Data가 적어 연관성 파악을 잘못할 것 같기 때문에, 모델 성능을 위해 하나로 병합 후 진행"
      ],
      "metadata": {
        "id": "D0mnZdRanzay"
      }
    },
    {
      "cell_type": "code",
      "source": [
        "for idx in range(len(file_list)):\n",
        "  if idx == 0:\n",
        "    first = pd.read_csv(path + file_list[0])\n",
        "  elif idx == 1:\n",
        "    second = pd.read_csv(path + file_list[1])\n",
        "    test = pd.concat([first, second])\n",
        "  else:\n",
        "    tmp_df = pd.read_csv(path + file_list[idx])\n",
        "    test = pd.concat([test, tmp_df])\n",
        "\n",
        "test.shape  \n",
        "  "
      ],
      "metadata": {
        "colab": {
          "base_uri": "https://localhost:8080/"
        },
        "id": "rYRy6MiVnxK7",
        "outputId": "c4c9ce0f-74aa-4f35-c574-e3f609cb7f29"
      },
      "execution_count": 74,
      "outputs": [
        {
          "output_type": "execute_result",
          "data": {
            "text/plain": [
              "(231840, 12)"
            ]
          },
          "metadata": {},
          "execution_count": 74
        }
      ]
    },
    {
      "cell_type": "code",
      "source": [
        "test.drop(['Unnamed: 0'], axis = 1, inplace = True)\n",
        "test"
      ],
      "metadata": {
        "colab": {
          "base_uri": "https://localhost:8080/",
          "height": 658
        },
        "id": "AGouXfPnqxRK",
        "outputId": "f71166eb-39e3-4c4b-98d4-17f6a8497a64"
      },
      "execution_count": 75,
      "outputs": [
        {
          "output_type": "execute_result",
          "data": {
            "text/plain": [
              "      연도  지점    기온(°C)   풍향(deg)   풍속(m/s)  강수량(mm)  습도(%)  지역번호   월   일   시\n",
              "0      4  옹도  0.325434  0.071944  0.248082      0.0  0.680     3   1   1   0\n",
              "1      4  옹도  0.322275  0.070833  0.253197      0.0  0.667     3   1   1   1\n",
              "2      4  옹도  0.320695  0.098056  0.237852      0.0  0.668     3   1   1   2\n",
              "3      4  옹도  0.320695  0.055833  0.276215      0.0  0.658     3   1   1   3\n",
              "4      4  옹도  0.323855  0.040556  0.230179      0.0  0.671     3   1   1   4\n",
              "...   ..  ..       ...       ...       ...      ...    ...   ...  ..  ..  ..\n",
              "7723   4  정안  0.429700  0.819167  0.099744      0.0  0.363     3  11  18  19\n",
              "7724   4  정안  0.413902  0.788333  0.092072      0.0  0.525     3  11  18  20\n",
              "7725   4  정안  0.398104  0.789167  0.102302      0.0  0.495     3  11  18  21\n",
              "7726   4  정안  0.390205  0.810556  0.094629      0.0  0.600     3  11  18  22\n",
              "7727   4  정안  0.380727  0.898056  0.109974      0.0  0.595     3  11  18  23\n",
              "\n",
              "[231840 rows x 11 columns]"
            ],
            "text/html": [
              "\n",
              "  <div id=\"df-866de144-548f-4924-885d-d702b470c67e\">\n",
              "    <div class=\"colab-df-container\">\n",
              "      <div>\n",
              "<style scoped>\n",
              "    .dataframe tbody tr th:only-of-type {\n",
              "        vertical-align: middle;\n",
              "    }\n",
              "\n",
              "    .dataframe tbody tr th {\n",
              "        vertical-align: top;\n",
              "    }\n",
              "\n",
              "    .dataframe thead th {\n",
              "        text-align: right;\n",
              "    }\n",
              "</style>\n",
              "<table border=\"1\" class=\"dataframe\">\n",
              "  <thead>\n",
              "    <tr style=\"text-align: right;\">\n",
              "      <th></th>\n",
              "      <th>연도</th>\n",
              "      <th>지점</th>\n",
              "      <th>기온(°C)</th>\n",
              "      <th>풍향(deg)</th>\n",
              "      <th>풍속(m/s)</th>\n",
              "      <th>강수량(mm)</th>\n",
              "      <th>습도(%)</th>\n",
              "      <th>지역번호</th>\n",
              "      <th>월</th>\n",
              "      <th>일</th>\n",
              "      <th>시</th>\n",
              "    </tr>\n",
              "  </thead>\n",
              "  <tbody>\n",
              "    <tr>\n",
              "      <th>0</th>\n",
              "      <td>4</td>\n",
              "      <td>옹도</td>\n",
              "      <td>0.325434</td>\n",
              "      <td>0.071944</td>\n",
              "      <td>0.248082</td>\n",
              "      <td>0.0</td>\n",
              "      <td>0.680</td>\n",
              "      <td>3</td>\n",
              "      <td>1</td>\n",
              "      <td>1</td>\n",
              "      <td>0</td>\n",
              "    </tr>\n",
              "    <tr>\n",
              "      <th>1</th>\n",
              "      <td>4</td>\n",
              "      <td>옹도</td>\n",
              "      <td>0.322275</td>\n",
              "      <td>0.070833</td>\n",
              "      <td>0.253197</td>\n",
              "      <td>0.0</td>\n",
              "      <td>0.667</td>\n",
              "      <td>3</td>\n",
              "      <td>1</td>\n",
              "      <td>1</td>\n",
              "      <td>1</td>\n",
              "    </tr>\n",
              "    <tr>\n",
              "      <th>2</th>\n",
              "      <td>4</td>\n",
              "      <td>옹도</td>\n",
              "      <td>0.320695</td>\n",
              "      <td>0.098056</td>\n",
              "      <td>0.237852</td>\n",
              "      <td>0.0</td>\n",
              "      <td>0.668</td>\n",
              "      <td>3</td>\n",
              "      <td>1</td>\n",
              "      <td>1</td>\n",
              "      <td>2</td>\n",
              "    </tr>\n",
              "    <tr>\n",
              "      <th>3</th>\n",
              "      <td>4</td>\n",
              "      <td>옹도</td>\n",
              "      <td>0.320695</td>\n",
              "      <td>0.055833</td>\n",
              "      <td>0.276215</td>\n",
              "      <td>0.0</td>\n",
              "      <td>0.658</td>\n",
              "      <td>3</td>\n",
              "      <td>1</td>\n",
              "      <td>1</td>\n",
              "      <td>3</td>\n",
              "    </tr>\n",
              "    <tr>\n",
              "      <th>4</th>\n",
              "      <td>4</td>\n",
              "      <td>옹도</td>\n",
              "      <td>0.323855</td>\n",
              "      <td>0.040556</td>\n",
              "      <td>0.230179</td>\n",
              "      <td>0.0</td>\n",
              "      <td>0.671</td>\n",
              "      <td>3</td>\n",
              "      <td>1</td>\n",
              "      <td>1</td>\n",
              "      <td>4</td>\n",
              "    </tr>\n",
              "    <tr>\n",
              "      <th>...</th>\n",
              "      <td>...</td>\n",
              "      <td>...</td>\n",
              "      <td>...</td>\n",
              "      <td>...</td>\n",
              "      <td>...</td>\n",
              "      <td>...</td>\n",
              "      <td>...</td>\n",
              "      <td>...</td>\n",
              "      <td>...</td>\n",
              "      <td>...</td>\n",
              "      <td>...</td>\n",
              "    </tr>\n",
              "    <tr>\n",
              "      <th>7723</th>\n",
              "      <td>4</td>\n",
              "      <td>정안</td>\n",
              "      <td>0.429700</td>\n",
              "      <td>0.819167</td>\n",
              "      <td>0.099744</td>\n",
              "      <td>0.0</td>\n",
              "      <td>0.363</td>\n",
              "      <td>3</td>\n",
              "      <td>11</td>\n",
              "      <td>18</td>\n",
              "      <td>19</td>\n",
              "    </tr>\n",
              "    <tr>\n",
              "      <th>7724</th>\n",
              "      <td>4</td>\n",
              "      <td>정안</td>\n",
              "      <td>0.413902</td>\n",
              "      <td>0.788333</td>\n",
              "      <td>0.092072</td>\n",
              "      <td>0.0</td>\n",
              "      <td>0.525</td>\n",
              "      <td>3</td>\n",
              "      <td>11</td>\n",
              "      <td>18</td>\n",
              "      <td>20</td>\n",
              "    </tr>\n",
              "    <tr>\n",
              "      <th>7725</th>\n",
              "      <td>4</td>\n",
              "      <td>정안</td>\n",
              "      <td>0.398104</td>\n",
              "      <td>0.789167</td>\n",
              "      <td>0.102302</td>\n",
              "      <td>0.0</td>\n",
              "      <td>0.495</td>\n",
              "      <td>3</td>\n",
              "      <td>11</td>\n",
              "      <td>18</td>\n",
              "      <td>21</td>\n",
              "    </tr>\n",
              "    <tr>\n",
              "      <th>7726</th>\n",
              "      <td>4</td>\n",
              "      <td>정안</td>\n",
              "      <td>0.390205</td>\n",
              "      <td>0.810556</td>\n",
              "      <td>0.094629</td>\n",
              "      <td>0.0</td>\n",
              "      <td>0.600</td>\n",
              "      <td>3</td>\n",
              "      <td>11</td>\n",
              "      <td>18</td>\n",
              "      <td>22</td>\n",
              "    </tr>\n",
              "    <tr>\n",
              "      <th>7727</th>\n",
              "      <td>4</td>\n",
              "      <td>정안</td>\n",
              "      <td>0.380727</td>\n",
              "      <td>0.898056</td>\n",
              "      <td>0.109974</td>\n",
              "      <td>0.0</td>\n",
              "      <td>0.595</td>\n",
              "      <td>3</td>\n",
              "      <td>11</td>\n",
              "      <td>18</td>\n",
              "      <td>23</td>\n",
              "    </tr>\n",
              "  </tbody>\n",
              "</table>\n",
              "<p>231840 rows × 11 columns</p>\n",
              "</div>\n",
              "      <button class=\"colab-df-convert\" onclick=\"convertToInteractive('df-866de144-548f-4924-885d-d702b470c67e')\"\n",
              "              title=\"Convert this dataframe to an interactive table.\"\n",
              "              style=\"display:none;\">\n",
              "        \n",
              "  <svg xmlns=\"http://www.w3.org/2000/svg\" height=\"24px\"viewBox=\"0 0 24 24\"\n",
              "       width=\"24px\">\n",
              "    <path d=\"M0 0h24v24H0V0z\" fill=\"none\"/>\n",
              "    <path d=\"M18.56 5.44l.94 2.06.94-2.06 2.06-.94-2.06-.94-.94-2.06-.94 2.06-2.06.94zm-11 1L8.5 8.5l.94-2.06 2.06-.94-2.06-.94L8.5 2.5l-.94 2.06-2.06.94zm10 10l.94 2.06.94-2.06 2.06-.94-2.06-.94-.94-2.06-.94 2.06-2.06.94z\"/><path d=\"M17.41 7.96l-1.37-1.37c-.4-.4-.92-.59-1.43-.59-.52 0-1.04.2-1.43.59L10.3 9.45l-7.72 7.72c-.78.78-.78 2.05 0 2.83L4 21.41c.39.39.9.59 1.41.59.51 0 1.02-.2 1.41-.59l7.78-7.78 2.81-2.81c.8-.78.8-2.07 0-2.86zM5.41 20L4 18.59l7.72-7.72 1.47 1.35L5.41 20z\"/>\n",
              "  </svg>\n",
              "      </button>\n",
              "      \n",
              "  <style>\n",
              "    .colab-df-container {\n",
              "      display:flex;\n",
              "      flex-wrap:wrap;\n",
              "      gap: 12px;\n",
              "    }\n",
              "\n",
              "    .colab-df-convert {\n",
              "      background-color: #E8F0FE;\n",
              "      border: none;\n",
              "      border-radius: 50%;\n",
              "      cursor: pointer;\n",
              "      display: none;\n",
              "      fill: #1967D2;\n",
              "      height: 32px;\n",
              "      padding: 0 0 0 0;\n",
              "      width: 32px;\n",
              "    }\n",
              "\n",
              "    .colab-df-convert:hover {\n",
              "      background-color: #E2EBFA;\n",
              "      box-shadow: 0px 1px 2px rgba(60, 64, 67, 0.3), 0px 1px 3px 1px rgba(60, 64, 67, 0.15);\n",
              "      fill: #174EA6;\n",
              "    }\n",
              "\n",
              "    [theme=dark] .colab-df-convert {\n",
              "      background-color: #3B4455;\n",
              "      fill: #D2E3FC;\n",
              "    }\n",
              "\n",
              "    [theme=dark] .colab-df-convert:hover {\n",
              "      background-color: #434B5C;\n",
              "      box-shadow: 0px 1px 3px 1px rgba(0, 0, 0, 0.15);\n",
              "      filter: drop-shadow(0px 1px 2px rgba(0, 0, 0, 0.3));\n",
              "      fill: #FFFFFF;\n",
              "    }\n",
              "  </style>\n",
              "\n",
              "      <script>\n",
              "        const buttonEl =\n",
              "          document.querySelector('#df-866de144-548f-4924-885d-d702b470c67e button.colab-df-convert');\n",
              "        buttonEl.style.display =\n",
              "          google.colab.kernel.accessAllowed ? 'block' : 'none';\n",
              "\n",
              "        async function convertToInteractive(key) {\n",
              "          const element = document.querySelector('#df-866de144-548f-4924-885d-d702b470c67e');\n",
              "          const dataTable =\n",
              "            await google.colab.kernel.invokeFunction('convertToInteractive',\n",
              "                                                     [key], {});\n",
              "          if (!dataTable) return;\n",
              "\n",
              "          const docLinkHtml = 'Like what you see? Visit the ' +\n",
              "            '<a target=\"_blank\" href=https://colab.research.google.com/notebooks/data_table.ipynb>data table notebook</a>'\n",
              "            + ' to learn more about interactive tables.';\n",
              "          element.innerHTML = '';\n",
              "          dataTable['output_type'] = 'display_data';\n",
              "          await google.colab.output.renderOutput(dataTable, element);\n",
              "          const docLink = document.createElement('div');\n",
              "          docLink.innerHTML = docLinkHtml;\n",
              "          element.appendChild(docLink);\n",
              "        }\n",
              "      </script>\n",
              "    </div>\n",
              "  </div>\n",
              "  "
            ]
          },
          "metadata": {},
          "execution_count": 75
        }
      ]
    },
    {
      "cell_type": "code",
      "source": [
        "test = test.reset_index(drop=True)\n",
        "test.to_csv('test.csv', index = False)"
      ],
      "metadata": {
        "id": "o-wkKyGUrxTQ"
      },
      "execution_count": 76,
      "outputs": []
    },
    {
      "cell_type": "code",
      "source": [
        "len(test['강수량(mm)'][test['강수량(mm)'] != 0])"
      ],
      "metadata": {
        "colab": {
          "base_uri": "https://localhost:8080/"
        },
        "id": "_Nq7b3Zz0P4k",
        "outputId": "4a91ccce-69e7-48f6-dc0e-7bebd67d413c"
      },
      "execution_count": 79,
      "outputs": [
        {
          "output_type": "execute_result",
          "data": {
            "text/plain": [
              "144372"
            ]
          },
          "metadata": {},
          "execution_count": 79
        }
      ]
    },
    {
      "cell_type": "markdown",
      "source": [
        "# 3. 월, 일, 시, 지점, 지역번호 -> 강수량"
      ],
      "metadata": {
        "id": "qoxdQa1FfK37"
      }
    },
    {
      "cell_type": "markdown",
      "source": [
        "## SEED 고정"
      ],
      "metadata": {
        "id": "zhmXxV91hzRB"
      }
    },
    {
      "cell_type": "code",
      "source": [
        "SEED = 42\n",
        "def seed_everything(seed: int = 42):\n",
        "    random.seed(seed)\n",
        "    np.random.seed(seed)\n",
        "    os.environ[\"PYTHONHASHSEED\"] = str(seed)\n",
        "\n",
        "seed_everything(SEED)"
      ],
      "metadata": {
        "id": "yzFGX7Z0fTDk"
      },
      "execution_count": 80,
      "outputs": []
    },
    {
      "cell_type": "markdown",
      "source": [
        "## TRAIN,TEST DATASET LOAD"
      ],
      "metadata": {
        "id": "27MMEXJEnT4h"
      }
    },
    {
      "cell_type": "code",
      "source": [
        "train_path = '/content/drive/MyDrive/'\n",
        "\n",
        "train = pd.read_csv(train_path+'train_first.csv')\n",
        "train_X = train[['월', '일', '시', '지점', '지역번호']]\n",
        "train_Y = train['강수량(mm)']\n",
        "train.head()"
      ],
      "metadata": {
        "colab": {
          "base_uri": "https://localhost:8080/",
          "height": 612
        },
        "id": "ho0Ci7Sjg7pi",
        "outputId": "03329d75-8545-4617-cba4-f98070a3e4c9"
      },
      "execution_count": 110,
      "outputs": [
        {
          "output_type": "execute_result",
          "data": {
            "text/plain": [
              "   연도  측정소  PM2.5    지점    기온(°C)   풍향(deg)   풍속(m/s)  강수량(mm)  습도(%)  지역번호  \\\n",
              "0   0  아름동  0.044  세종고운  0.170616  0.053333  0.017903      0.0  0.764     1   \n",
              "1   0  아름동  0.048  세종고운  0.167457  0.099444  0.020460      0.0  0.759     1   \n",
              "2   0  아름동  0.060  세종고운  0.162717  0.134167  0.012788      0.0  0.760     1   \n",
              "3   0  아름동  0.064  세종고운  0.157978  0.000000  0.005115      0.0  0.747     1   \n",
              "4   0  아름동  0.064  세종고운  0.148499  0.000000  0.007673      0.0  0.791     1   \n",
              "\n",
              "   ...  일  시  fix_월  fix_일  fix_시  fix_기온(°C)  fix_습도(%)  fix_강수량(mm)  \\\n",
              "0  ...  1  0      3      1      2           0          2            0   \n",
              "1  ...  1  1      3      1      2           0          2            0   \n",
              "2  ...  1  2      3      1      1           0          2            0   \n",
              "3  ...  1  3      3      1      1           0          2            0   \n",
              "4  ...  1  4      3      1      1           0          2            0   \n",
              "\n",
              "   fix_풍향(deg)  fix_풍속(m/s)  \n",
              "0          1.0          2.0  \n",
              "1          1.0          2.0  \n",
              "2          2.0          2.0  \n",
              "3          1.0          1.0  \n",
              "4          1.0          1.0  \n",
              "\n",
              "[5 rows x 21 columns]"
            ],
            "text/html": [
              "\n",
              "  <div id=\"df-5616042f-67c0-45cd-b073-185198a634f5\">\n",
              "    <div class=\"colab-df-container\">\n",
              "      <div>\n",
              "<style scoped>\n",
              "    .dataframe tbody tr th:only-of-type {\n",
              "        vertical-align: middle;\n",
              "    }\n",
              "\n",
              "    .dataframe tbody tr th {\n",
              "        vertical-align: top;\n",
              "    }\n",
              "\n",
              "    .dataframe thead th {\n",
              "        text-align: right;\n",
              "    }\n",
              "</style>\n",
              "<table border=\"1\" class=\"dataframe\">\n",
              "  <thead>\n",
              "    <tr style=\"text-align: right;\">\n",
              "      <th></th>\n",
              "      <th>연도</th>\n",
              "      <th>측정소</th>\n",
              "      <th>PM2.5</th>\n",
              "      <th>지점</th>\n",
              "      <th>기온(°C)</th>\n",
              "      <th>풍향(deg)</th>\n",
              "      <th>풍속(m/s)</th>\n",
              "      <th>강수량(mm)</th>\n",
              "      <th>습도(%)</th>\n",
              "      <th>지역번호</th>\n",
              "      <th>...</th>\n",
              "      <th>일</th>\n",
              "      <th>시</th>\n",
              "      <th>fix_월</th>\n",
              "      <th>fix_일</th>\n",
              "      <th>fix_시</th>\n",
              "      <th>fix_기온(°C)</th>\n",
              "      <th>fix_습도(%)</th>\n",
              "      <th>fix_강수량(mm)</th>\n",
              "      <th>fix_풍향(deg)</th>\n",
              "      <th>fix_풍속(m/s)</th>\n",
              "    </tr>\n",
              "  </thead>\n",
              "  <tbody>\n",
              "    <tr>\n",
              "      <th>0</th>\n",
              "      <td>0</td>\n",
              "      <td>아름동</td>\n",
              "      <td>0.044</td>\n",
              "      <td>세종고운</td>\n",
              "      <td>0.170616</td>\n",
              "      <td>0.053333</td>\n",
              "      <td>0.017903</td>\n",
              "      <td>0.0</td>\n",
              "      <td>0.764</td>\n",
              "      <td>1</td>\n",
              "      <td>...</td>\n",
              "      <td>1</td>\n",
              "      <td>0</td>\n",
              "      <td>3</td>\n",
              "      <td>1</td>\n",
              "      <td>2</td>\n",
              "      <td>0</td>\n",
              "      <td>2</td>\n",
              "      <td>0</td>\n",
              "      <td>1.0</td>\n",
              "      <td>2.0</td>\n",
              "    </tr>\n",
              "    <tr>\n",
              "      <th>1</th>\n",
              "      <td>0</td>\n",
              "      <td>아름동</td>\n",
              "      <td>0.048</td>\n",
              "      <td>세종고운</td>\n",
              "      <td>0.167457</td>\n",
              "      <td>0.099444</td>\n",
              "      <td>0.020460</td>\n",
              "      <td>0.0</td>\n",
              "      <td>0.759</td>\n",
              "      <td>1</td>\n",
              "      <td>...</td>\n",
              "      <td>1</td>\n",
              "      <td>1</td>\n",
              "      <td>3</td>\n",
              "      <td>1</td>\n",
              "      <td>2</td>\n",
              "      <td>0</td>\n",
              "      <td>2</td>\n",
              "      <td>0</td>\n",
              "      <td>1.0</td>\n",
              "      <td>2.0</td>\n",
              "    </tr>\n",
              "    <tr>\n",
              "      <th>2</th>\n",
              "      <td>0</td>\n",
              "      <td>아름동</td>\n",
              "      <td>0.060</td>\n",
              "      <td>세종고운</td>\n",
              "      <td>0.162717</td>\n",
              "      <td>0.134167</td>\n",
              "      <td>0.012788</td>\n",
              "      <td>0.0</td>\n",
              "      <td>0.760</td>\n",
              "      <td>1</td>\n",
              "      <td>...</td>\n",
              "      <td>1</td>\n",
              "      <td>2</td>\n",
              "      <td>3</td>\n",
              "      <td>1</td>\n",
              "      <td>1</td>\n",
              "      <td>0</td>\n",
              "      <td>2</td>\n",
              "      <td>0</td>\n",
              "      <td>2.0</td>\n",
              "      <td>2.0</td>\n",
              "    </tr>\n",
              "    <tr>\n",
              "      <th>3</th>\n",
              "      <td>0</td>\n",
              "      <td>아름동</td>\n",
              "      <td>0.064</td>\n",
              "      <td>세종고운</td>\n",
              "      <td>0.157978</td>\n",
              "      <td>0.000000</td>\n",
              "      <td>0.005115</td>\n",
              "      <td>0.0</td>\n",
              "      <td>0.747</td>\n",
              "      <td>1</td>\n",
              "      <td>...</td>\n",
              "      <td>1</td>\n",
              "      <td>3</td>\n",
              "      <td>3</td>\n",
              "      <td>1</td>\n",
              "      <td>1</td>\n",
              "      <td>0</td>\n",
              "      <td>2</td>\n",
              "      <td>0</td>\n",
              "      <td>1.0</td>\n",
              "      <td>1.0</td>\n",
              "    </tr>\n",
              "    <tr>\n",
              "      <th>4</th>\n",
              "      <td>0</td>\n",
              "      <td>아름동</td>\n",
              "      <td>0.064</td>\n",
              "      <td>세종고운</td>\n",
              "      <td>0.148499</td>\n",
              "      <td>0.000000</td>\n",
              "      <td>0.007673</td>\n",
              "      <td>0.0</td>\n",
              "      <td>0.791</td>\n",
              "      <td>1</td>\n",
              "      <td>...</td>\n",
              "      <td>1</td>\n",
              "      <td>4</td>\n",
              "      <td>3</td>\n",
              "      <td>1</td>\n",
              "      <td>1</td>\n",
              "      <td>0</td>\n",
              "      <td>2</td>\n",
              "      <td>0</td>\n",
              "      <td>1.0</td>\n",
              "      <td>1.0</td>\n",
              "    </tr>\n",
              "  </tbody>\n",
              "</table>\n",
              "<p>5 rows × 21 columns</p>\n",
              "</div>\n",
              "      <button class=\"colab-df-convert\" onclick=\"convertToInteractive('df-5616042f-67c0-45cd-b073-185198a634f5')\"\n",
              "              title=\"Convert this dataframe to an interactive table.\"\n",
              "              style=\"display:none;\">\n",
              "        \n",
              "  <svg xmlns=\"http://www.w3.org/2000/svg\" height=\"24px\"viewBox=\"0 0 24 24\"\n",
              "       width=\"24px\">\n",
              "    <path d=\"M0 0h24v24H0V0z\" fill=\"none\"/>\n",
              "    <path d=\"M18.56 5.44l.94 2.06.94-2.06 2.06-.94-2.06-.94-.94-2.06-.94 2.06-2.06.94zm-11 1L8.5 8.5l.94-2.06 2.06-.94-2.06-.94L8.5 2.5l-.94 2.06-2.06.94zm10 10l.94 2.06.94-2.06 2.06-.94-2.06-.94-.94-2.06-.94 2.06-2.06.94z\"/><path d=\"M17.41 7.96l-1.37-1.37c-.4-.4-.92-.59-1.43-.59-.52 0-1.04.2-1.43.59L10.3 9.45l-7.72 7.72c-.78.78-.78 2.05 0 2.83L4 21.41c.39.39.9.59 1.41.59.51 0 1.02-.2 1.41-.59l7.78-7.78 2.81-2.81c.8-.78.8-2.07 0-2.86zM5.41 20L4 18.59l7.72-7.72 1.47 1.35L5.41 20z\"/>\n",
              "  </svg>\n",
              "      </button>\n",
              "      \n",
              "  <style>\n",
              "    .colab-df-container {\n",
              "      display:flex;\n",
              "      flex-wrap:wrap;\n",
              "      gap: 12px;\n",
              "    }\n",
              "\n",
              "    .colab-df-convert {\n",
              "      background-color: #E8F0FE;\n",
              "      border: none;\n",
              "      border-radius: 50%;\n",
              "      cursor: pointer;\n",
              "      display: none;\n",
              "      fill: #1967D2;\n",
              "      height: 32px;\n",
              "      padding: 0 0 0 0;\n",
              "      width: 32px;\n",
              "    }\n",
              "\n",
              "    .colab-df-convert:hover {\n",
              "      background-color: #E2EBFA;\n",
              "      box-shadow: 0px 1px 2px rgba(60, 64, 67, 0.3), 0px 1px 3px 1px rgba(60, 64, 67, 0.15);\n",
              "      fill: #174EA6;\n",
              "    }\n",
              "\n",
              "    [theme=dark] .colab-df-convert {\n",
              "      background-color: #3B4455;\n",
              "      fill: #D2E3FC;\n",
              "    }\n",
              "\n",
              "    [theme=dark] .colab-df-convert:hover {\n",
              "      background-color: #434B5C;\n",
              "      box-shadow: 0px 1px 3px 1px rgba(0, 0, 0, 0.15);\n",
              "      filter: drop-shadow(0px 1px 2px rgba(0, 0, 0, 0.3));\n",
              "      fill: #FFFFFF;\n",
              "    }\n",
              "  </style>\n",
              "\n",
              "      <script>\n",
              "        const buttonEl =\n",
              "          document.querySelector('#df-5616042f-67c0-45cd-b073-185198a634f5 button.colab-df-convert');\n",
              "        buttonEl.style.display =\n",
              "          google.colab.kernel.accessAllowed ? 'block' : 'none';\n",
              "\n",
              "        async function convertToInteractive(key) {\n",
              "          const element = document.querySelector('#df-5616042f-67c0-45cd-b073-185198a634f5');\n",
              "          const dataTable =\n",
              "            await google.colab.kernel.invokeFunction('convertToInteractive',\n",
              "                                                     [key], {});\n",
              "          if (!dataTable) return;\n",
              "\n",
              "          const docLinkHtml = 'Like what you see? Visit the ' +\n",
              "            '<a target=\"_blank\" href=https://colab.research.google.com/notebooks/data_table.ipynb>data table notebook</a>'\n",
              "            + ' to learn more about interactive tables.';\n",
              "          element.innerHTML = '';\n",
              "          dataTable['output_type'] = 'display_data';\n",
              "          await google.colab.output.renderOutput(dataTable, element);\n",
              "          const docLink = document.createElement('div');\n",
              "          docLink.innerHTML = docLinkHtml;\n",
              "          element.appendChild(docLink);\n",
              "        }\n",
              "      </script>\n",
              "    </div>\n",
              "  </div>\n",
              "  "
            ]
          },
          "metadata": {},
          "execution_count": 110
        }
      ]
    },
    {
      "cell_type": "code",
      "source": [
        "train.info()"
      ],
      "metadata": {
        "colab": {
          "base_uri": "https://localhost:8080/"
        },
        "id": "iUR-j6yUu9Wc",
        "outputId": "1faaa20e-c059-477f-ffbc-47a9ef0422ee"
      },
      "execution_count": 111,
      "outputs": [
        {
          "output_type": "stream",
          "name": "stdout",
          "text": [
            "<class 'pandas.core.frame.DataFrame'>\n",
            "RangeIndex: 580546 entries, 0 to 580545\n",
            "Data columns (total 21 columns):\n",
            " #   Column       Non-Null Count   Dtype  \n",
            "---  ------       --------------   -----  \n",
            " 0   연도           580546 non-null  int64  \n",
            " 1   측정소          580546 non-null  object \n",
            " 2   PM2.5        580546 non-null  float64\n",
            " 3   지점           580546 non-null  object \n",
            " 4   기온(°C)       580546 non-null  float64\n",
            " 5   풍향(deg)      580546 non-null  float64\n",
            " 6   풍속(m/s)      580546 non-null  float64\n",
            " 7   강수량(mm)      580546 non-null  float64\n",
            " 8   습도(%)        580546 non-null  float64\n",
            " 9   지역번호         580546 non-null  int64  \n",
            " 10  월            580546 non-null  int64  \n",
            " 11  일            580546 non-null  int64  \n",
            " 12  시            580546 non-null  int64  \n",
            " 13  fix_월        580546 non-null  int64  \n",
            " 14  fix_일        580546 non-null  int64  \n",
            " 15  fix_시        580546 non-null  int64  \n",
            " 16  fix_기온(°C)   580546 non-null  int64  \n",
            " 17  fix_습도(%)    580546 non-null  int64  \n",
            " 18  fix_강수량(mm)  580546 non-null  int64  \n",
            " 19  fix_풍향(deg)  580546 non-null  float64\n",
            " 20  fix_풍속(m/s)  580546 non-null  float64\n",
            "dtypes: float64(8), int64(11), object(2)\n",
            "memory usage: 93.0+ MB\n"
          ]
        }
      ]
    },
    {
      "cell_type": "code",
      "source": [
        "test = pd.read_csv('/content/test.csv')\n",
        "test_X = test[['월', '일', '시', '지점', '지역번호']]\n",
        "test_Y = test['강수량(mm)']\n",
        "test.info()"
      ],
      "metadata": {
        "colab": {
          "base_uri": "https://localhost:8080/"
        },
        "id": "CqLZL8Dzr6Ft",
        "outputId": "786e974e-144f-4531-b8a6-5398b793ebca"
      },
      "execution_count": 112,
      "outputs": [
        {
          "output_type": "stream",
          "name": "stdout",
          "text": [
            "<class 'pandas.core.frame.DataFrame'>\n",
            "RangeIndex: 231840 entries, 0 to 231839\n",
            "Data columns (total 11 columns):\n",
            " #   Column   Non-Null Count   Dtype  \n",
            "---  ------   --------------   -----  \n",
            " 0   연도       231840 non-null  int64  \n",
            " 1   지점       231840 non-null  object \n",
            " 2   기온(°C)   93600 non-null   float64\n",
            " 3   풍향(deg)  93600 non-null   float64\n",
            " 4   풍속(m/s)  93600 non-null   float64\n",
            " 5   강수량(mm)  93600 non-null   float64\n",
            " 6   습도(%)    93600 non-null   float64\n",
            " 7   지역번호     231840 non-null  int64  \n",
            " 8   월        231840 non-null  int64  \n",
            " 9   일        231840 non-null  int64  \n",
            " 10  시        231840 non-null  int64  \n",
            "dtypes: float64(5), int64(5), object(1)\n",
            "memory usage: 19.5+ MB\n"
          ]
        }
      ]
    },
    {
      "cell_type": "code",
      "source": [
        "# 결측치 처리\n",
        "test['기온(°C)'].fillna(0, inplace =True)\n",
        "test['강수량(mm)'].fillna(0, inplace =True)\n",
        "test['습도(%)'].fillna(0, inplace =True)\n",
        "test['풍향(deg)'].fillna(0, inplace =True)\n",
        "test['풍속(m/s)'].fillna(0, inplace =True)\n",
        "\n",
        "test.info()"
      ],
      "metadata": {
        "colab": {
          "base_uri": "https://localhost:8080/"
        },
        "id": "thbcey0F8rJS",
        "outputId": "798271c1-5807-4e34-81a3-3886857cc76d"
      },
      "execution_count": 113,
      "outputs": [
        {
          "output_type": "stream",
          "name": "stdout",
          "text": [
            "<class 'pandas.core.frame.DataFrame'>\n",
            "RangeIndex: 231840 entries, 0 to 231839\n",
            "Data columns (total 11 columns):\n",
            " #   Column   Non-Null Count   Dtype  \n",
            "---  ------   --------------   -----  \n",
            " 0   연도       231840 non-null  int64  \n",
            " 1   지점       231840 non-null  object \n",
            " 2   기온(°C)   231840 non-null  float64\n",
            " 3   풍향(deg)  231840 non-null  float64\n",
            " 4   풍속(m/s)  231840 non-null  float64\n",
            " 5   강수량(mm)  231840 non-null  float64\n",
            " 6   습도(%)    231840 non-null  float64\n",
            " 7   지역번호     231840 non-null  int64  \n",
            " 8   월        231840 non-null  int64  \n",
            " 9   일        231840 non-null  int64  \n",
            " 10  시        231840 non-null  int64  \n",
            "dtypes: float64(5), int64(5), object(1)\n",
            "memory usage: 19.5+ MB\n"
          ]
        }
      ]
    },
    {
      "cell_type": "markdown",
      "source": [
        "## DATA 전처리"
      ],
      "metadata": {
        "id": "LVD2n6HgnZO9"
      }
    },
    {
      "cell_type": "code",
      "source": [
        "train_columns = train_X.columns\n",
        "for column in train_columns:\n",
        "    train_X[column] = train_X[column].astype('str')\n",
        "train_Y = train_Y.astype(float)"
      ],
      "metadata": {
        "id": "5NpXbw2bhKXe"
      },
      "execution_count": 114,
      "outputs": []
    },
    {
      "cell_type": "code",
      "source": [],
      "metadata": {
        "id": "vM3uQz4k9fc7"
      },
      "execution_count": 114,
      "outputs": []
    },
    {
      "cell_type": "code",
      "source": [
        "test_columns = test_X.columns\n",
        "for column in test_columns:\n",
        "    test_X[column] = test_X[column].astype('str')\n",
        "test_Y = test_Y.astype(float)"
      ],
      "metadata": {
        "id": "b907qe_-tI1u"
      },
      "execution_count": 115,
      "outputs": []
    },
    {
      "cell_type": "markdown",
      "source": [
        "## Modeling"
      ],
      "metadata": {
        "id": "VL5w7TYfwSNh"
      }
    },
    {
      "cell_type": "code",
      "source": [
        "import copy\n",
        "\n",
        "params_cat = {\n",
        "    \"task_type\" : \"GPU\",\n",
        "    \"devices\" : '0',\n",
        "    \"random_state\": SEED,\n",
        "    'learning_rate': 0.04574578205475402, \n",
        "    'bagging_temperature': 0.12172958098369972, \n",
        "    'n_estimators': 2000, \n",
        "    'max_depth': 8, \n",
        "    'random_strength': 28, \n",
        "    'l2_leaf_reg': 1.6285455533915874e-05, \n",
        "    'min_child_samples': 18, \n",
        "    'max_bin': 441, \n",
        "    'od_type': 'Iter',\n",
        "    \"cat_features\" : list(train_X.columns),\n",
        "}\n",
        "\n",
        "model = CatBoostRegressor(**params_cat)\n",
        "model.fit(\n",
        "    train_X,\n",
        "    train_Y,\n",
        "    #early_stopping_rounds=10,\n",
        "    verbose=False,\n",
        ")\n",
        "\n",
        "pred = model.predict(test_X)\n"
      ],
      "metadata": {
        "id": "SN3g9k_vwRU-"
      },
      "execution_count": 116,
      "outputs": []
    },
    {
      "cell_type": "code",
      "source": [
        "idx = test[test['강수량(mm)'] == 0.0].index\n",
        "len(idx)"
      ],
      "metadata": {
        "colab": {
          "base_uri": "https://localhost:8080/"
        },
        "id": "MDXxfkLq4dUJ",
        "outputId": "80c1c2dd-fb16-4b12-d4d5-96b1ee01f18c"
      },
      "execution_count": 117,
      "outputs": [
        {
          "output_type": "execute_result",
          "data": {
            "text/plain": [
              "225708"
            ]
          },
          "metadata": {},
          "execution_count": 117
        }
      ]
    },
    {
      "cell_type": "code",
      "source": [
        "len(pred[idx])"
      ],
      "metadata": {
        "colab": {
          "base_uri": "https://localhost:8080/"
        },
        "id": "Xy0x34YQ2P4S",
        "outputId": "d47daf76-5426-4d4e-f969-3bebf2e5dbad"
      },
      "execution_count": 118,
      "outputs": [
        {
          "output_type": "execute_result",
          "data": {
            "text/plain": [
              "225708"
            ]
          },
          "metadata": {},
          "execution_count": 118
        }
      ]
    },
    {
      "cell_type": "code",
      "source": [
        "# Index 뽑아서 기존의 결측치만 채우기\n",
        "test.loc[list(idx),'강수량(mm)'] = pred[idx]"
      ],
      "metadata": {
        "id": "MLPaufl7ziJX"
      },
      "execution_count": 119,
      "outputs": []
    },
    {
      "cell_type": "code",
      "source": [
        "idx"
      ],
      "metadata": {
        "colab": {
          "base_uri": "https://localhost:8080/"
        },
        "id": "e5f4gvlV29sO",
        "outputId": "295e3b3d-ef4e-4a43-b156-3cb458eb3008"
      },
      "execution_count": 120,
      "outputs": [
        {
          "output_type": "execute_result",
          "data": {
            "text/plain": [
              "Int64Index([     0,      1,      2,      3,      4,      5,      6,      7,\n",
              "                 8,      9,\n",
              "            ...\n",
              "            231830, 231831, 231832, 231833, 231834, 231835, 231836, 231837,\n",
              "            231838, 231839],\n",
              "           dtype='int64', length=225708)"
            ]
          },
          "metadata": {},
          "execution_count": 120
        }
      ]
    },
    {
      "cell_type": "code",
      "source": [
        "print(test.loc[idx[1], '강수량(mm)'])\n",
        "print(pred[idx][1])"
      ],
      "metadata": {
        "colab": {
          "base_uri": "https://localhost:8080/"
        },
        "id": "RZ2Wbl0z2oud",
        "outputId": "95fafb16-02b0-4645-f1c7-cf12b7134464"
      },
      "execution_count": 121,
      "outputs": [
        {
          "output_type": "stream",
          "name": "stdout",
          "text": [
            "-0.0005380115649479683\n",
            "-0.0005380115649479683\n"
          ]
        }
      ]
    },
    {
      "cell_type": "code",
      "source": [
        "test['강수량(mm)'][test['강수량(mm)'] < 0] = 0\n",
        "test[test['강수량(mm)'] >= 0].shape"
      ],
      "metadata": {
        "colab": {
          "base_uri": "https://localhost:8080/"
        },
        "id": "iUuh40hU16UH",
        "outputId": "fe8ba2bc-92c8-4233-e96e-6492d7d97588"
      },
      "execution_count": 122,
      "outputs": [
        {
          "output_type": "execute_result",
          "data": {
            "text/plain": [
              "(231840, 11)"
            ]
          },
          "metadata": {},
          "execution_count": 122
        }
      ]
    },
    {
      "cell_type": "code",
      "source": [
        "test.info()"
      ],
      "metadata": {
        "colab": {
          "base_uri": "https://localhost:8080/"
        },
        "id": "UEONwPOo8PQ4",
        "outputId": "2a62a421-06ee-48c3-aedd-9dd90f6f302a"
      },
      "execution_count": 123,
      "outputs": [
        {
          "output_type": "stream",
          "name": "stdout",
          "text": [
            "<class 'pandas.core.frame.DataFrame'>\n",
            "RangeIndex: 231840 entries, 0 to 231839\n",
            "Data columns (total 11 columns):\n",
            " #   Column   Non-Null Count   Dtype  \n",
            "---  ------   --------------   -----  \n",
            " 0   연도       231840 non-null  int64  \n",
            " 1   지점       231840 non-null  object \n",
            " 2   기온(°C)   231840 non-null  float64\n",
            " 3   풍향(deg)  231840 non-null  float64\n",
            " 4   풍속(m/s)  231840 non-null  float64\n",
            " 5   강수량(mm)  231840 non-null  float64\n",
            " 6   습도(%)    231840 non-null  float64\n",
            " 7   지역번호     231840 non-null  int64  \n",
            " 8   월        231840 non-null  int64  \n",
            " 9   일        231840 non-null  int64  \n",
            " 10  시        231840 non-null  int64  \n",
            "dtypes: float64(5), int64(5), object(1)\n",
            "memory usage: 19.5+ MB\n"
          ]
        }
      ]
    },
    {
      "cell_type": "code",
      "source": [
        "pred"
      ],
      "metadata": {
        "colab": {
          "base_uri": "https://localhost:8080/"
        },
        "id": "PfveCPIOyzPG",
        "outputId": "0a18e7ae-071e-429f-9f7e-a5627cbda41e"
      },
      "execution_count": 124,
      "outputs": [
        {
          "output_type": "execute_result",
          "data": {
            "text/plain": [
              "array([-0.00075963, -0.00053801, -0.0005065 , ...,  0.00076805,\n",
              "       -0.00074842, -0.00139187])"
            ]
          },
          "metadata": {},
          "execution_count": 124
        }
      ]
    },
    {
      "cell_type": "markdown",
      "source": [
        "# 4. 월, 일, 시, 지점, 강수량, 습도"
      ],
      "metadata": {
        "id": "ne-XaLQDg8Zt"
      }
    },
    {
      "cell_type": "code",
      "source": [
        "train_X = train[['월', '일', '시', '지점', '지역번호', '강수량(mm)']]\n",
        "train_Y = train['습도(%)']\n",
        "train.head()"
      ],
      "metadata": {
        "colab": {
          "base_uri": "https://localhost:8080/",
          "height": 612
        },
        "id": "PrF25EIqg_Oi",
        "outputId": "69d9f9af-9968-4f8d-f721-2cb4cb75bb1c"
      },
      "execution_count": 125,
      "outputs": [
        {
          "output_type": "execute_result",
          "data": {
            "text/plain": [
              "   연도  측정소  PM2.5    지점    기온(°C)   풍향(deg)   풍속(m/s)  강수량(mm)  습도(%)  지역번호  \\\n",
              "0   0  아름동  0.044  세종고운  0.170616  0.053333  0.017903      0.0  0.764     1   \n",
              "1   0  아름동  0.048  세종고운  0.167457  0.099444  0.020460      0.0  0.759     1   \n",
              "2   0  아름동  0.060  세종고운  0.162717  0.134167  0.012788      0.0  0.760     1   \n",
              "3   0  아름동  0.064  세종고운  0.157978  0.000000  0.005115      0.0  0.747     1   \n",
              "4   0  아름동  0.064  세종고운  0.148499  0.000000  0.007673      0.0  0.791     1   \n",
              "\n",
              "   ...  일  시  fix_월  fix_일  fix_시  fix_기온(°C)  fix_습도(%)  fix_강수량(mm)  \\\n",
              "0  ...  1  0      3      1      2           0          2            0   \n",
              "1  ...  1  1      3      1      2           0          2            0   \n",
              "2  ...  1  2      3      1      1           0          2            0   \n",
              "3  ...  1  3      3      1      1           0          2            0   \n",
              "4  ...  1  4      3      1      1           0          2            0   \n",
              "\n",
              "   fix_풍향(deg)  fix_풍속(m/s)  \n",
              "0          1.0          2.0  \n",
              "1          1.0          2.0  \n",
              "2          2.0          2.0  \n",
              "3          1.0          1.0  \n",
              "4          1.0          1.0  \n",
              "\n",
              "[5 rows x 21 columns]"
            ],
            "text/html": [
              "\n",
              "  <div id=\"df-c3a8ae30-9808-40d6-b4cb-205fc0552e6b\">\n",
              "    <div class=\"colab-df-container\">\n",
              "      <div>\n",
              "<style scoped>\n",
              "    .dataframe tbody tr th:only-of-type {\n",
              "        vertical-align: middle;\n",
              "    }\n",
              "\n",
              "    .dataframe tbody tr th {\n",
              "        vertical-align: top;\n",
              "    }\n",
              "\n",
              "    .dataframe thead th {\n",
              "        text-align: right;\n",
              "    }\n",
              "</style>\n",
              "<table border=\"1\" class=\"dataframe\">\n",
              "  <thead>\n",
              "    <tr style=\"text-align: right;\">\n",
              "      <th></th>\n",
              "      <th>연도</th>\n",
              "      <th>측정소</th>\n",
              "      <th>PM2.5</th>\n",
              "      <th>지점</th>\n",
              "      <th>기온(°C)</th>\n",
              "      <th>풍향(deg)</th>\n",
              "      <th>풍속(m/s)</th>\n",
              "      <th>강수량(mm)</th>\n",
              "      <th>습도(%)</th>\n",
              "      <th>지역번호</th>\n",
              "      <th>...</th>\n",
              "      <th>일</th>\n",
              "      <th>시</th>\n",
              "      <th>fix_월</th>\n",
              "      <th>fix_일</th>\n",
              "      <th>fix_시</th>\n",
              "      <th>fix_기온(°C)</th>\n",
              "      <th>fix_습도(%)</th>\n",
              "      <th>fix_강수량(mm)</th>\n",
              "      <th>fix_풍향(deg)</th>\n",
              "      <th>fix_풍속(m/s)</th>\n",
              "    </tr>\n",
              "  </thead>\n",
              "  <tbody>\n",
              "    <tr>\n",
              "      <th>0</th>\n",
              "      <td>0</td>\n",
              "      <td>아름동</td>\n",
              "      <td>0.044</td>\n",
              "      <td>세종고운</td>\n",
              "      <td>0.170616</td>\n",
              "      <td>0.053333</td>\n",
              "      <td>0.017903</td>\n",
              "      <td>0.0</td>\n",
              "      <td>0.764</td>\n",
              "      <td>1</td>\n",
              "      <td>...</td>\n",
              "      <td>1</td>\n",
              "      <td>0</td>\n",
              "      <td>3</td>\n",
              "      <td>1</td>\n",
              "      <td>2</td>\n",
              "      <td>0</td>\n",
              "      <td>2</td>\n",
              "      <td>0</td>\n",
              "      <td>1.0</td>\n",
              "      <td>2.0</td>\n",
              "    </tr>\n",
              "    <tr>\n",
              "      <th>1</th>\n",
              "      <td>0</td>\n",
              "      <td>아름동</td>\n",
              "      <td>0.048</td>\n",
              "      <td>세종고운</td>\n",
              "      <td>0.167457</td>\n",
              "      <td>0.099444</td>\n",
              "      <td>0.020460</td>\n",
              "      <td>0.0</td>\n",
              "      <td>0.759</td>\n",
              "      <td>1</td>\n",
              "      <td>...</td>\n",
              "      <td>1</td>\n",
              "      <td>1</td>\n",
              "      <td>3</td>\n",
              "      <td>1</td>\n",
              "      <td>2</td>\n",
              "      <td>0</td>\n",
              "      <td>2</td>\n",
              "      <td>0</td>\n",
              "      <td>1.0</td>\n",
              "      <td>2.0</td>\n",
              "    </tr>\n",
              "    <tr>\n",
              "      <th>2</th>\n",
              "      <td>0</td>\n",
              "      <td>아름동</td>\n",
              "      <td>0.060</td>\n",
              "      <td>세종고운</td>\n",
              "      <td>0.162717</td>\n",
              "      <td>0.134167</td>\n",
              "      <td>0.012788</td>\n",
              "      <td>0.0</td>\n",
              "      <td>0.760</td>\n",
              "      <td>1</td>\n",
              "      <td>...</td>\n",
              "      <td>1</td>\n",
              "      <td>2</td>\n",
              "      <td>3</td>\n",
              "      <td>1</td>\n",
              "      <td>1</td>\n",
              "      <td>0</td>\n",
              "      <td>2</td>\n",
              "      <td>0</td>\n",
              "      <td>2.0</td>\n",
              "      <td>2.0</td>\n",
              "    </tr>\n",
              "    <tr>\n",
              "      <th>3</th>\n",
              "      <td>0</td>\n",
              "      <td>아름동</td>\n",
              "      <td>0.064</td>\n",
              "      <td>세종고운</td>\n",
              "      <td>0.157978</td>\n",
              "      <td>0.000000</td>\n",
              "      <td>0.005115</td>\n",
              "      <td>0.0</td>\n",
              "      <td>0.747</td>\n",
              "      <td>1</td>\n",
              "      <td>...</td>\n",
              "      <td>1</td>\n",
              "      <td>3</td>\n",
              "      <td>3</td>\n",
              "      <td>1</td>\n",
              "      <td>1</td>\n",
              "      <td>0</td>\n",
              "      <td>2</td>\n",
              "      <td>0</td>\n",
              "      <td>1.0</td>\n",
              "      <td>1.0</td>\n",
              "    </tr>\n",
              "    <tr>\n",
              "      <th>4</th>\n",
              "      <td>0</td>\n",
              "      <td>아름동</td>\n",
              "      <td>0.064</td>\n",
              "      <td>세종고운</td>\n",
              "      <td>0.148499</td>\n",
              "      <td>0.000000</td>\n",
              "      <td>0.007673</td>\n",
              "      <td>0.0</td>\n",
              "      <td>0.791</td>\n",
              "      <td>1</td>\n",
              "      <td>...</td>\n",
              "      <td>1</td>\n",
              "      <td>4</td>\n",
              "      <td>3</td>\n",
              "      <td>1</td>\n",
              "      <td>1</td>\n",
              "      <td>0</td>\n",
              "      <td>2</td>\n",
              "      <td>0</td>\n",
              "      <td>1.0</td>\n",
              "      <td>1.0</td>\n",
              "    </tr>\n",
              "  </tbody>\n",
              "</table>\n",
              "<p>5 rows × 21 columns</p>\n",
              "</div>\n",
              "      <button class=\"colab-df-convert\" onclick=\"convertToInteractive('df-c3a8ae30-9808-40d6-b4cb-205fc0552e6b')\"\n",
              "              title=\"Convert this dataframe to an interactive table.\"\n",
              "              style=\"display:none;\">\n",
              "        \n",
              "  <svg xmlns=\"http://www.w3.org/2000/svg\" height=\"24px\"viewBox=\"0 0 24 24\"\n",
              "       width=\"24px\">\n",
              "    <path d=\"M0 0h24v24H0V0z\" fill=\"none\"/>\n",
              "    <path d=\"M18.56 5.44l.94 2.06.94-2.06 2.06-.94-2.06-.94-.94-2.06-.94 2.06-2.06.94zm-11 1L8.5 8.5l.94-2.06 2.06-.94-2.06-.94L8.5 2.5l-.94 2.06-2.06.94zm10 10l.94 2.06.94-2.06 2.06-.94-2.06-.94-.94-2.06-.94 2.06-2.06.94z\"/><path d=\"M17.41 7.96l-1.37-1.37c-.4-.4-.92-.59-1.43-.59-.52 0-1.04.2-1.43.59L10.3 9.45l-7.72 7.72c-.78.78-.78 2.05 0 2.83L4 21.41c.39.39.9.59 1.41.59.51 0 1.02-.2 1.41-.59l7.78-7.78 2.81-2.81c.8-.78.8-2.07 0-2.86zM5.41 20L4 18.59l7.72-7.72 1.47 1.35L5.41 20z\"/>\n",
              "  </svg>\n",
              "      </button>\n",
              "      \n",
              "  <style>\n",
              "    .colab-df-container {\n",
              "      display:flex;\n",
              "      flex-wrap:wrap;\n",
              "      gap: 12px;\n",
              "    }\n",
              "\n",
              "    .colab-df-convert {\n",
              "      background-color: #E8F0FE;\n",
              "      border: none;\n",
              "      border-radius: 50%;\n",
              "      cursor: pointer;\n",
              "      display: none;\n",
              "      fill: #1967D2;\n",
              "      height: 32px;\n",
              "      padding: 0 0 0 0;\n",
              "      width: 32px;\n",
              "    }\n",
              "\n",
              "    .colab-df-convert:hover {\n",
              "      background-color: #E2EBFA;\n",
              "      box-shadow: 0px 1px 2px rgba(60, 64, 67, 0.3), 0px 1px 3px 1px rgba(60, 64, 67, 0.15);\n",
              "      fill: #174EA6;\n",
              "    }\n",
              "\n",
              "    [theme=dark] .colab-df-convert {\n",
              "      background-color: #3B4455;\n",
              "      fill: #D2E3FC;\n",
              "    }\n",
              "\n",
              "    [theme=dark] .colab-df-convert:hover {\n",
              "      background-color: #434B5C;\n",
              "      box-shadow: 0px 1px 3px 1px rgba(0, 0, 0, 0.15);\n",
              "      filter: drop-shadow(0px 1px 2px rgba(0, 0, 0, 0.3));\n",
              "      fill: #FFFFFF;\n",
              "    }\n",
              "  </style>\n",
              "\n",
              "      <script>\n",
              "        const buttonEl =\n",
              "          document.querySelector('#df-c3a8ae30-9808-40d6-b4cb-205fc0552e6b button.colab-df-convert');\n",
              "        buttonEl.style.display =\n",
              "          google.colab.kernel.accessAllowed ? 'block' : 'none';\n",
              "\n",
              "        async function convertToInteractive(key) {\n",
              "          const element = document.querySelector('#df-c3a8ae30-9808-40d6-b4cb-205fc0552e6b');\n",
              "          const dataTable =\n",
              "            await google.colab.kernel.invokeFunction('convertToInteractive',\n",
              "                                                     [key], {});\n",
              "          if (!dataTable) return;\n",
              "\n",
              "          const docLinkHtml = 'Like what you see? Visit the ' +\n",
              "            '<a target=\"_blank\" href=https://colab.research.google.com/notebooks/data_table.ipynb>data table notebook</a>'\n",
              "            + ' to learn more about interactive tables.';\n",
              "          element.innerHTML = '';\n",
              "          dataTable['output_type'] = 'display_data';\n",
              "          await google.colab.output.renderOutput(dataTable, element);\n",
              "          const docLink = document.createElement('div');\n",
              "          docLink.innerHTML = docLinkHtml;\n",
              "          element.appendChild(docLink);\n",
              "        }\n",
              "      </script>\n",
              "    </div>\n",
              "  </div>\n",
              "  "
            ]
          },
          "metadata": {},
          "execution_count": 125
        }
      ]
    },
    {
      "cell_type": "code",
      "source": [
        "test_X = test[['월', '일', '시', '지점', '지역번호', '강수량(mm)']]\n",
        "test_Y = test['습도(%)']\n",
        "test_X.head()"
      ],
      "metadata": {
        "colab": {
          "base_uri": "https://localhost:8080/",
          "height": 206
        },
        "id": "LoFwHvgZhAmq",
        "outputId": "3e2e9e65-3a1e-4541-f744-12cf0e751ebd"
      },
      "execution_count": 126,
      "outputs": [
        {
          "output_type": "execute_result",
          "data": {
            "text/plain": [
              "   월  일  시  지점  지역번호  강수량(mm)\n",
              "0  1  1  0  옹도     3      0.0\n",
              "1  1  1  1  옹도     3      0.0\n",
              "2  1  1  2  옹도     3      0.0\n",
              "3  1  1  3  옹도     3      0.0\n",
              "4  1  1  4  옹도     3      0.0"
            ],
            "text/html": [
              "\n",
              "  <div id=\"df-ea075085-e638-4cf7-8f4e-09b9f8d6d046\">\n",
              "    <div class=\"colab-df-container\">\n",
              "      <div>\n",
              "<style scoped>\n",
              "    .dataframe tbody tr th:only-of-type {\n",
              "        vertical-align: middle;\n",
              "    }\n",
              "\n",
              "    .dataframe tbody tr th {\n",
              "        vertical-align: top;\n",
              "    }\n",
              "\n",
              "    .dataframe thead th {\n",
              "        text-align: right;\n",
              "    }\n",
              "</style>\n",
              "<table border=\"1\" class=\"dataframe\">\n",
              "  <thead>\n",
              "    <tr style=\"text-align: right;\">\n",
              "      <th></th>\n",
              "      <th>월</th>\n",
              "      <th>일</th>\n",
              "      <th>시</th>\n",
              "      <th>지점</th>\n",
              "      <th>지역번호</th>\n",
              "      <th>강수량(mm)</th>\n",
              "    </tr>\n",
              "  </thead>\n",
              "  <tbody>\n",
              "    <tr>\n",
              "      <th>0</th>\n",
              "      <td>1</td>\n",
              "      <td>1</td>\n",
              "      <td>0</td>\n",
              "      <td>옹도</td>\n",
              "      <td>3</td>\n",
              "      <td>0.0</td>\n",
              "    </tr>\n",
              "    <tr>\n",
              "      <th>1</th>\n",
              "      <td>1</td>\n",
              "      <td>1</td>\n",
              "      <td>1</td>\n",
              "      <td>옹도</td>\n",
              "      <td>3</td>\n",
              "      <td>0.0</td>\n",
              "    </tr>\n",
              "    <tr>\n",
              "      <th>2</th>\n",
              "      <td>1</td>\n",
              "      <td>1</td>\n",
              "      <td>2</td>\n",
              "      <td>옹도</td>\n",
              "      <td>3</td>\n",
              "      <td>0.0</td>\n",
              "    </tr>\n",
              "    <tr>\n",
              "      <th>3</th>\n",
              "      <td>1</td>\n",
              "      <td>1</td>\n",
              "      <td>3</td>\n",
              "      <td>옹도</td>\n",
              "      <td>3</td>\n",
              "      <td>0.0</td>\n",
              "    </tr>\n",
              "    <tr>\n",
              "      <th>4</th>\n",
              "      <td>1</td>\n",
              "      <td>1</td>\n",
              "      <td>4</td>\n",
              "      <td>옹도</td>\n",
              "      <td>3</td>\n",
              "      <td>0.0</td>\n",
              "    </tr>\n",
              "  </tbody>\n",
              "</table>\n",
              "</div>\n",
              "      <button class=\"colab-df-convert\" onclick=\"convertToInteractive('df-ea075085-e638-4cf7-8f4e-09b9f8d6d046')\"\n",
              "              title=\"Convert this dataframe to an interactive table.\"\n",
              "              style=\"display:none;\">\n",
              "        \n",
              "  <svg xmlns=\"http://www.w3.org/2000/svg\" height=\"24px\"viewBox=\"0 0 24 24\"\n",
              "       width=\"24px\">\n",
              "    <path d=\"M0 0h24v24H0V0z\" fill=\"none\"/>\n",
              "    <path d=\"M18.56 5.44l.94 2.06.94-2.06 2.06-.94-2.06-.94-.94-2.06-.94 2.06-2.06.94zm-11 1L8.5 8.5l.94-2.06 2.06-.94-2.06-.94L8.5 2.5l-.94 2.06-2.06.94zm10 10l.94 2.06.94-2.06 2.06-.94-2.06-.94-.94-2.06-.94 2.06-2.06.94z\"/><path d=\"M17.41 7.96l-1.37-1.37c-.4-.4-.92-.59-1.43-.59-.52 0-1.04.2-1.43.59L10.3 9.45l-7.72 7.72c-.78.78-.78 2.05 0 2.83L4 21.41c.39.39.9.59 1.41.59.51 0 1.02-.2 1.41-.59l7.78-7.78 2.81-2.81c.8-.78.8-2.07 0-2.86zM5.41 20L4 18.59l7.72-7.72 1.47 1.35L5.41 20z\"/>\n",
              "  </svg>\n",
              "      </button>\n",
              "      \n",
              "  <style>\n",
              "    .colab-df-container {\n",
              "      display:flex;\n",
              "      flex-wrap:wrap;\n",
              "      gap: 12px;\n",
              "    }\n",
              "\n",
              "    .colab-df-convert {\n",
              "      background-color: #E8F0FE;\n",
              "      border: none;\n",
              "      border-radius: 50%;\n",
              "      cursor: pointer;\n",
              "      display: none;\n",
              "      fill: #1967D2;\n",
              "      height: 32px;\n",
              "      padding: 0 0 0 0;\n",
              "      width: 32px;\n",
              "    }\n",
              "\n",
              "    .colab-df-convert:hover {\n",
              "      background-color: #E2EBFA;\n",
              "      box-shadow: 0px 1px 2px rgba(60, 64, 67, 0.3), 0px 1px 3px 1px rgba(60, 64, 67, 0.15);\n",
              "      fill: #174EA6;\n",
              "    }\n",
              "\n",
              "    [theme=dark] .colab-df-convert {\n",
              "      background-color: #3B4455;\n",
              "      fill: #D2E3FC;\n",
              "    }\n",
              "\n",
              "    [theme=dark] .colab-df-convert:hover {\n",
              "      background-color: #434B5C;\n",
              "      box-shadow: 0px 1px 3px 1px rgba(0, 0, 0, 0.15);\n",
              "      filter: drop-shadow(0px 1px 2px rgba(0, 0, 0, 0.3));\n",
              "      fill: #FFFFFF;\n",
              "    }\n",
              "  </style>\n",
              "\n",
              "      <script>\n",
              "        const buttonEl =\n",
              "          document.querySelector('#df-ea075085-e638-4cf7-8f4e-09b9f8d6d046 button.colab-df-convert');\n",
              "        buttonEl.style.display =\n",
              "          google.colab.kernel.accessAllowed ? 'block' : 'none';\n",
              "\n",
              "        async function convertToInteractive(key) {\n",
              "          const element = document.querySelector('#df-ea075085-e638-4cf7-8f4e-09b9f8d6d046');\n",
              "          const dataTable =\n",
              "            await google.colab.kernel.invokeFunction('convertToInteractive',\n",
              "                                                     [key], {});\n",
              "          if (!dataTable) return;\n",
              "\n",
              "          const docLinkHtml = 'Like what you see? Visit the ' +\n",
              "            '<a target=\"_blank\" href=https://colab.research.google.com/notebooks/data_table.ipynb>data table notebook</a>'\n",
              "            + ' to learn more about interactive tables.';\n",
              "          element.innerHTML = '';\n",
              "          dataTable['output_type'] = 'display_data';\n",
              "          await google.colab.output.renderOutput(dataTable, element);\n",
              "          const docLink = document.createElement('div');\n",
              "          docLink.innerHTML = docLinkHtml;\n",
              "          element.appendChild(docLink);\n",
              "        }\n",
              "      </script>\n",
              "    </div>\n",
              "  </div>\n",
              "  "
            ]
          },
          "metadata": {},
          "execution_count": 126
        }
      ]
    },
    {
      "cell_type": "code",
      "source": [
        "train_columns = train_X.columns\n",
        "for column in train_columns:\n",
        "    train_X[column] = train_X[column].astype('str')\n",
        "train_Y = train_Y.astype(float)"
      ],
      "metadata": {
        "id": "Ecf7-iVP6PQQ"
      },
      "execution_count": 127,
      "outputs": []
    },
    {
      "cell_type": "code",
      "source": [
        "test_columns = test_X.columns\n",
        "for column in test_columns:\n",
        "    test_X[column] = test_X[column].astype('str')\n",
        "test_Y = test_Y.astype(float)"
      ],
      "metadata": {
        "id": "TaCZCi7O6P3H"
      },
      "execution_count": 128,
      "outputs": []
    },
    {
      "cell_type": "code",
      "source": [
        "params_cat = {\n",
        "    \"task_type\" : \"GPU\",\n",
        "    \"devices\" : '0',\n",
        "    \"random_state\": SEED,\n",
        "    'learning_rate': 0.04574578205475402, \n",
        "    'bagging_temperature': 0.12172958098369972, \n",
        "    'n_estimators': 2000, \n",
        "    'max_depth': 8, \n",
        "    'random_strength': 28, \n",
        "    'l2_leaf_reg': 1.6285455533915874e-05, \n",
        "    'min_child_samples': 18, \n",
        "    'max_bin': 441, \n",
        "    'od_type': 'Iter',\n",
        "    \"cat_features\" : list(train_X.columns),\n",
        "}\n",
        "\n",
        "model = CatBoostRegressor(**params_cat)\n",
        "model.fit(\n",
        "    train_X,\n",
        "    train_Y,\n",
        "    #early_stopping_rounds=10,\n",
        "    verbose=False,\n",
        ")\n",
        "\n",
        "pred = model.predict(test_X)"
      ],
      "metadata": {
        "id": "dDKsxpKn6kw5"
      },
      "execution_count": 129,
      "outputs": []
    },
    {
      "cell_type": "code",
      "source": [
        "idx = test[test['습도(%)'] == 0.0].index\n",
        "test.loc[list(idx),'습도(%)'] = pred[idx]"
      ],
      "metadata": {
        "id": "-Lmh9Kyd7fo4"
      },
      "execution_count": 130,
      "outputs": []
    },
    {
      "cell_type": "code",
      "source": [
        "test.info()"
      ],
      "metadata": {
        "colab": {
          "base_uri": "https://localhost:8080/"
        },
        "id": "ziFQ2T-L74Nr",
        "outputId": "2e731e0a-e78c-4f7a-ae33-6bf88c26ae9f"
      },
      "execution_count": 131,
      "outputs": [
        {
          "output_type": "stream",
          "name": "stdout",
          "text": [
            "<class 'pandas.core.frame.DataFrame'>\n",
            "RangeIndex: 231840 entries, 0 to 231839\n",
            "Data columns (total 11 columns):\n",
            " #   Column   Non-Null Count   Dtype  \n",
            "---  ------   --------------   -----  \n",
            " 0   연도       231840 non-null  int64  \n",
            " 1   지점       231840 non-null  object \n",
            " 2   기온(°C)   231840 non-null  float64\n",
            " 3   풍향(deg)  231840 non-null  float64\n",
            " 4   풍속(m/s)  231840 non-null  float64\n",
            " 5   강수량(mm)  231840 non-null  float64\n",
            " 6   습도(%)    231840 non-null  float64\n",
            " 7   지역번호     231840 non-null  int64  \n",
            " 8   월        231840 non-null  int64  \n",
            " 9   일        231840 non-null  int64  \n",
            " 10  시        231840 non-null  int64  \n",
            "dtypes: float64(5), int64(5), object(1)\n",
            "memory usage: 19.5+ MB\n"
          ]
        }
      ]
    },
    {
      "cell_type": "markdown",
      "source": [
        "# 5. 월, 일, 시, 지점, 강수량, 습도, 풍향"
      ],
      "metadata": {
        "id": "rCGRC6WehBDJ"
      }
    },
    {
      "cell_type": "code",
      "source": [
        "train_X = train[['월', '일', '시', '지점', '지역번호', '강수량(mm)','습도(%)']]\n",
        "train_Y = train['풍향(deg)']\n",
        "\n",
        "test_X = test[['월', '일', '시', '지점', '지역번호', '강수량(mm)','습도(%)']]\n",
        "test_Y = test['풍향(deg)']"
      ],
      "metadata": {
        "id": "B3xMWRm5hHGT"
      },
      "execution_count": 132,
      "outputs": []
    },
    {
      "cell_type": "code",
      "source": [
        "train_columns = train_X.columns\n",
        "for column in train_columns:\n",
        "    train_X[column] = train_X[column].astype('str')\n",
        "train_Y = train_Y.astype(float)\n",
        "\n",
        "test_columns = test_X.columns\n",
        "for column in test_columns:\n",
        "    test_X[column] = test_X[column].astype('str')\n",
        "test_Y = test_Y.astype(float)"
      ],
      "metadata": {
        "id": "MpJECs-jhSfK"
      },
      "execution_count": 133,
      "outputs": []
    },
    {
      "cell_type": "code",
      "source": [
        "model = CatBoostRegressor(**params_cat)\n",
        "model.fit(\n",
        "    train_X,\n",
        "    train_Y,\n",
        "    #early_stopping_rounds=10,\n",
        "    verbose=False,\n",
        ")\n",
        "\n",
        "pred = model.predict(test_X)"
      ],
      "metadata": {
        "id": "RqjNb0c49Pn9"
      },
      "execution_count": 134,
      "outputs": []
    },
    {
      "cell_type": "code",
      "source": [
        "idx = test[test['풍향(deg)'] == 0.0].index\n",
        "test.loc[list(idx),'풍향(deg)'] = pred[idx]"
      ],
      "metadata": {
        "id": "iuNpmUHl9RTJ"
      },
      "execution_count": 135,
      "outputs": []
    },
    {
      "cell_type": "markdown",
      "source": [
        "# 6. 월, 일, 시, 지점, 강수량, 습도, 풍향, 풍속"
      ],
      "metadata": {
        "id": "tbZ2QddLhTIQ"
      }
    },
    {
      "cell_type": "code",
      "source": [
        "train_X = train[['월', '일', '시', '지점', '지역번호', '강수량(mm)','습도(%)', '풍향(deg)']]\n",
        "train_Y = train['풍속(m/s)']\n",
        "\n",
        "test_X = test[['월', '일', '시', '지점', '지역번호', '강수량(mm)','습도(%)', '풍향(deg)']]\n",
        "test_Y = test['풍속(m/s)']"
      ],
      "metadata": {
        "id": "jkw-dpNXhWK8"
      },
      "execution_count": 136,
      "outputs": []
    },
    {
      "cell_type": "code",
      "source": [
        "train_columns = train_X.columns\n",
        "for column in train_columns:\n",
        "    train_X[column] = train_X[column].astype('str')\n",
        "train_Y = train_Y.astype(float)\n",
        "\n",
        "test_columns = test_X.columns\n",
        "for column in test_columns:\n",
        "    test_X[column] = test_X[column].astype('str')\n",
        "test_Y = test_Y.astype(float)"
      ],
      "metadata": {
        "id": "BgPZTd6s94a-"
      },
      "execution_count": 137,
      "outputs": []
    },
    {
      "cell_type": "code",
      "source": [
        "model = CatBoostRegressor(**params_cat)\n",
        "model.fit(\n",
        "    train_X,\n",
        "    train_Y,\n",
        "    #early_stopping_rounds=10,\n",
        "    verbose=False,\n",
        ")\n",
        "\n",
        "pred = model.predict(test_X)"
      ],
      "metadata": {
        "id": "JEZAb2wT955E"
      },
      "execution_count": 138,
      "outputs": []
    },
    {
      "cell_type": "code",
      "source": [
        "idx = test[test['풍속(m/s)'] == 0.0].index\n",
        "test.loc[list(idx),'풍속(m/s))'] = pred[idx]"
      ],
      "metadata": {
        "id": "KO-Ifidp98NW"
      },
      "execution_count": 139,
      "outputs": []
    },
    {
      "cell_type": "markdown",
      "source": [
        "# 7. 월, 일, 시, 지점, 강수량, 습도, 풍향, 풍속, 기온"
      ],
      "metadata": {
        "id": "9COlm4PohWmr"
      }
    },
    {
      "cell_type": "code",
      "source": [
        "train_X = train[['월', '일', '시', '지점', '지역번호', '강수량(mm)','습도(%)', '풍향(deg)', '풍속(m/s)']]\n",
        "train_Y = train['기온(°C)']\n",
        "\n",
        "test_X = test[['월', '일', '시', '지점', '지역번호', '강수량(mm)','습도(%)', '풍향(deg)', '풍속(m/s)']]\n",
        "test_Y = test['기온(°C)']"
      ],
      "metadata": {
        "id": "9orgLv0Z93-h"
      },
      "execution_count": 141,
      "outputs": []
    },
    {
      "cell_type": "code",
      "source": [
        "train_columns = train_X.columns\n",
        "for column in train_columns:\n",
        "    train_X[column] = train_X[column].astype('str')\n",
        "train_Y = train_Y.astype(float)\n",
        "\n",
        "test_columns = test_X.columns\n",
        "for column in test_columns:\n",
        "    test_X[column] = test_X[column].astype('str')\n",
        "test_Y = test_Y.astype(float)"
      ],
      "metadata": {
        "id": "Wnn-wM2uhYiN"
      },
      "execution_count": 142,
      "outputs": []
    },
    {
      "cell_type": "code",
      "source": [
        "model = CatBoostRegressor(**params_cat)\n",
        "model.fit(\n",
        "    train_X,\n",
        "    train_Y,\n",
        "    #early_stopping_rounds=10,\n",
        "    verbose=False,\n",
        ")\n",
        "\n",
        "pred = model.predict(test_X)"
      ],
      "metadata": {
        "id": "KCaZFGCv-PfK"
      },
      "execution_count": 143,
      "outputs": []
    },
    {
      "cell_type": "code",
      "source": [
        "idx = test[test['기온(°C)'] == 0.0].index\n",
        "test.loc[list(idx),'기온(°C)'] = pred[idx]"
      ],
      "metadata": {
        "id": "g6iuV90x-Qc6"
      },
      "execution_count": 144,
      "outputs": []
    },
    {
      "cell_type": "markdown",
      "source": [
        "# DATA -> CSV"
      ],
      "metadata": {
        "id": "-hR6YOg0-qgG"
      }
    },
    {
      "cell_type": "code",
      "source": [
        "def temper(df):\n",
        "    df[ \"fix_기온(°C)\"] = 0\n",
        "    df.loc[(0.277 <= df[\"기온(°C)\"]) & (df['기온(°C)'] < 0.491), \"fix_기온(°C)\"] = 1\n",
        "    df.loc[(0.491 <= df[\"기온(°C)\"]) & (df['기온(°C)'] < 0.691), 'fix_기온(°C)'] = 2\n",
        "    return df\n",
        "test = temper(test)\n",
        "\n"
      ],
      "metadata": {
        "colab": {
          "base_uri": "https://localhost:8080/"
        },
        "id": "cU5raiM-_3Fv",
        "outputId": "98fb6355-3a66-4e3f-b32e-75de36e1f064"
      },
      "execution_count": 146,
      "outputs": [
        {
          "output_type": "stream",
          "name": "stdout",
          "text": [
            "<class 'pandas.core.frame.DataFrame'>\n",
            "RangeIndex: 231840 entries, 0 to 231839\n",
            "Data columns (total 13 columns):\n",
            " #   Column      Non-Null Count   Dtype  \n",
            "---  ------      --------------   -----  \n",
            " 0   연도          231840 non-null  int64  \n",
            " 1   지점          231840 non-null  object \n",
            " 2   기온(°C)      231840 non-null  float64\n",
            " 3   풍향(deg)     231840 non-null  float64\n",
            " 4   풍속(m/s)     231840 non-null  float64\n",
            " 5   강수량(mm)     231840 non-null  float64\n",
            " 6   습도(%)       231840 non-null  float64\n",
            " 7   지역번호        231840 non-null  int64  \n",
            " 8   월           231840 non-null  int64  \n",
            " 9   일           231840 non-null  int64  \n",
            " 10  시           231840 non-null  int64  \n",
            " 11  풍속(m/s))    143008 non-null  float64\n",
            " 12  fix_기온(°C)  231840 non-null  int64  \n",
            "dtypes: float64(6), int64(6), object(1)\n",
            "memory usage: 23.0+ MB\n"
          ]
        }
      ]
    },
    {
      "cell_type": "code",
      "source": [
        "def humid(df):\n",
        "    df[\"fix_습도(%)\"]= 0\n",
        "    df.loc[df['습도(%)'] < 0.273, \"fix_습도(%)\"] = 1\n",
        "    df.loc[(0.501 <= df[\"습도(%)\"]) & (df['습도(%)'] < 0.978), \"fix_습도(%)\"] = 2\n",
        "    df.loc[0.987 <= df[\"습도(%)\"], \"fix_습도(%)\"] = 3\n",
        "    return df\n",
        "test = humid(test)"
      ],
      "metadata": {
        "id": "GQ6RO0dyASUD"
      },
      "execution_count": 149,
      "outputs": []
    },
    {
      "cell_type": "code",
      "source": [
        "def rain(df):\n",
        "    df[\"fix_강수량(mm)\"] = 0\n",
        "    df.loc[df['강수량(mm)'] > 0, \"fix_강수량(mm)\"] = 1\n",
        "    return df\n",
        "test = rain(test)"
      ],
      "metadata": {
        "id": "FvAjsxiLAPLq"
      },
      "execution_count": 150,
      "outputs": []
    },
    {
      "cell_type": "code",
      "source": [
        "def preprocess_speed_df_(df_):\n",
        "    df_['fix_풍속(m/s)'] = df_['풍속(m/s)'].copy()\n",
        "    df_['fix_풍속(m/s)'][df_['풍속(m/s)'] < 0.0125] = 1\n",
        "    df_['fix_풍속(m/s)'][(df_['풍속(m/s)'] < 0.025) & (df_['풍속(m/s)'] >= 0.0125)] = 2\n",
        "    df_['fix_풍속(m/s)'][(df_['풍속(m/s)'] < 0.035) & (df_['풍속(m/s)'] >= 0.025)] = 3\n",
        "    df_['fix_풍속(m/s)'][(df_['풍속(m/s)'] < 0.05) & (df_['풍속(m/s)'] >= 0.035)] = 4\n",
        "    df_['fix_풍속(m/s)'][(df_['풍속(m/s)'] < 0.1) & (df_['풍속(m/s)'] >= 0.05)] = 5\n",
        "    df_['fix_풍속(m/s)'][(df_['풍속(m/s)'] < 0.2) & (df_['풍속(m/s)'] >= 0.1)] = 6\n",
        "    df_['fix_풍속(m/s)'][df_['풍속(m/s)'] >= 0.2] = 7\n",
        "    df_['fix_풍속(m/s)'] = df_['fix_풍속(m/s)'].astype('str')\n",
        "    return df_\n",
        "\n",
        "preprocess_speed_df_(test)\n",
        "test.info()"
      ],
      "metadata": {
        "colab": {
          "base_uri": "https://localhost:8080/"
        },
        "id": "p24KdLvhAX1C",
        "outputId": "a613f851-2149-420a-8e8b-efb036f0134b"
      },
      "execution_count": 152,
      "outputs": [
        {
          "output_type": "stream",
          "name": "stdout",
          "text": [
            "<class 'pandas.core.frame.DataFrame'>\n",
            "RangeIndex: 231840 entries, 0 to 231839\n",
            "Data columns (total 15 columns):\n",
            " #   Column       Non-Null Count   Dtype  \n",
            "---  ------       --------------   -----  \n",
            " 0   연도           231840 non-null  int64  \n",
            " 1   지점           231840 non-null  object \n",
            " 2   기온(°C)       231840 non-null  float64\n",
            " 3   풍향(deg)      231840 non-null  float64\n",
            " 4   풍속(m/s)      231840 non-null  float64\n",
            " 5   강수량(mm)      231840 non-null  float64\n",
            " 6   습도(%)        231840 non-null  float64\n",
            " 7   지역번호         231840 non-null  int64  \n",
            " 8   월            231840 non-null  int64  \n",
            " 9   일            231840 non-null  int64  \n",
            " 10  시            231840 non-null  int64  \n",
            " 11  fix_기온(°C)   231840 non-null  int64  \n",
            " 12  fix_습도(%)    231840 non-null  int64  \n",
            " 13  fix_강수량(mm)  231840 non-null  int64  \n",
            " 14  fix_풍속(m/s)  231840 non-null  object \n",
            "dtypes: float64(5), int64(8), object(2)\n",
            "memory usage: 26.5+ MB\n"
          ]
        }
      ]
    },
    {
      "cell_type": "code",
      "source": [
        "def preprocess_direction_df_(df_):\n",
        "    df_['fix_풍향(deg)'] = df_['풍향(deg)'].copy()\n",
        "    df_['fix_풍향(deg)'][df_['풍향(deg)'] < 0.125] = 1\n",
        "    df_['fix_풍향(deg)'][(df_['풍향(deg)'] < 0.25) & (df_['풍향(deg)'] >= 0.125)] = 2\n",
        "    df_['fix_풍향(deg)'][(df_['풍향(deg)'] < 0.375) & (df_['풍향(deg)'] >= 0.25)] = 3\n",
        "    df_['fix_풍향(deg)'][(df_['풍향(deg)'] < 0.5) & (df_['풍향(deg)'] >= 0.375)] = 4\n",
        "    df_['fix_풍향(deg)'][(df_['풍향(deg)'] < 0.625) & (df_['풍향(deg)'] >= 0.5)] = 5\n",
        "    df_['fix_풍향(deg)'][(df_['풍향(deg)'] < 0.75) & (df_['풍향(deg)'] >= 0.625)] = 6\n",
        "    df_['fix_풍향(deg)'][(df_['풍향(deg)'] < 0.875) & (df_['풍향(deg)'] >= 0.75)] = 7\n",
        "    df_['fix_풍향(deg)'][df_['풍향(deg)'] >= 0.875] = 8\n",
        "    df_['fix_풍향(deg)'] = df_['fix_풍향(deg)'].astype('str')\n",
        "    return df_\n",
        "\n",
        "preprocess_direction_df_(test)\n",
        "test.info()"
      ],
      "metadata": {
        "colab": {
          "base_uri": "https://localhost:8080/"
        },
        "id": "blsU8HdrAf3Y",
        "outputId": "a07bda47-1663-4e52-ede5-161e31c34496"
      },
      "execution_count": 153,
      "outputs": [
        {
          "output_type": "stream",
          "name": "stdout",
          "text": [
            "<class 'pandas.core.frame.DataFrame'>\n",
            "RangeIndex: 231840 entries, 0 to 231839\n",
            "Data columns (total 16 columns):\n",
            " #   Column       Non-Null Count   Dtype  \n",
            "---  ------       --------------   -----  \n",
            " 0   연도           231840 non-null  int64  \n",
            " 1   지점           231840 non-null  object \n",
            " 2   기온(°C)       231840 non-null  float64\n",
            " 3   풍향(deg)      231840 non-null  float64\n",
            " 4   풍속(m/s)      231840 non-null  float64\n",
            " 5   강수량(mm)      231840 non-null  float64\n",
            " 6   습도(%)        231840 non-null  float64\n",
            " 7   지역번호         231840 non-null  int64  \n",
            " 8   월            231840 non-null  int64  \n",
            " 9   일            231840 non-null  int64  \n",
            " 10  시            231840 non-null  int64  \n",
            " 11  fix_기온(°C)   231840 non-null  int64  \n",
            " 12  fix_습도(%)    231840 non-null  int64  \n",
            " 13  fix_강수량(mm)  231840 non-null  int64  \n",
            " 14  fix_풍속(m/s)  231840 non-null  object \n",
            " 15  fix_풍향(deg)  231840 non-null  object \n",
            "dtypes: float64(5), int64(8), object(3)\n",
            "memory usage: 28.3+ MB\n"
          ]
        }
      ]
    },
    {
      "cell_type": "code",
      "source": [
        "def date_preprocessing(df):\n",
        "    # 월 기준 \n",
        "    df['fix_월'] = df['월'].apply(lambda x: 1 if x in [6, 7, 8, 9] else (2 if x in [3, 4, 5, 10] else 3))\n",
        "    # 일 기준\n",
        "    df['fix_일'] = df['일'].map(lambda x: 1 if (5 <= x <= 6) or (11 <= x <= 24) or (x == 1) or (x >= 28) else 2)\n",
        "    # 시간대별 기준 \n",
        "    df['fix_시'] = df['시'].map(lambda x: 1 if (2 <= x <= 5) or (9 <= x <= 16) else 2)\n",
        "    return df\n",
        "test = date_preprocessing(test)\n",
        "test.info()"
      ],
      "metadata": {
        "colab": {
          "base_uri": "https://localhost:8080/"
        },
        "id": "IB3UyvXlAnLZ",
        "outputId": "83292972-bbf6-4a29-e371-5cbe9eabffa0"
      },
      "execution_count": 155,
      "outputs": [
        {
          "output_type": "stream",
          "name": "stdout",
          "text": [
            "<class 'pandas.core.frame.DataFrame'>\n",
            "RangeIndex: 231840 entries, 0 to 231839\n",
            "Data columns (total 19 columns):\n",
            " #   Column       Non-Null Count   Dtype  \n",
            "---  ------       --------------   -----  \n",
            " 0   연도           231840 non-null  int64  \n",
            " 1   지점           231840 non-null  object \n",
            " 2   기온(°C)       231840 non-null  float64\n",
            " 3   풍향(deg)      231840 non-null  float64\n",
            " 4   풍속(m/s)      231840 non-null  float64\n",
            " 5   강수량(mm)      231840 non-null  float64\n",
            " 6   습도(%)        231840 non-null  float64\n",
            " 7   지역번호         231840 non-null  int64  \n",
            " 8   월            231840 non-null  int64  \n",
            " 9   일            231840 non-null  int64  \n",
            " 10  시            231840 non-null  int64  \n",
            " 11  fix_기온(°C)   231840 non-null  int64  \n",
            " 12  fix_습도(%)    231840 non-null  int64  \n",
            " 13  fix_강수량(mm)  231840 non-null  int64  \n",
            " 14  fix_풍속(m/s)  231840 non-null  object \n",
            " 15  fix_풍향(deg)  231840 non-null  object \n",
            " 16  fix_월        231840 non-null  int64  \n",
            " 17  fix_일        231840 non-null  int64  \n",
            " 18  fix_시        231840 non-null  int64  \n",
            "dtypes: float64(5), int64(11), object(3)\n",
            "memory usage: 33.6+ MB\n"
          ]
        }
      ]
    },
    {
      "cell_type": "code",
      "source": [
        "test.to_csv('/content/drive/MyDrive/preprocessed_test.csv', index = False)"
      ],
      "metadata": {
        "id": "tA8Qelba-tDz"
      },
      "execution_count": 157,
      "outputs": []
    },
    {
      "cell_type": "code",
      "source": [
        "train['측정소'].nunique()"
      ],
      "metadata": {
        "colab": {
          "base_uri": "https://localhost:8080/"
        },
        "id": "7le3y--RBaeK",
        "outputId": "6c26dac3-1be5-42be-a7bf-d85cec561b8c"
      },
      "execution_count": 159,
      "outputs": [
        {
          "output_type": "execute_result",
          "data": {
            "text/plain": [
              "17"
            ]
          },
          "metadata": {},
          "execution_count": 159
        }
      ]
    },
    {
      "cell_type": "code",
      "source": [],
      "metadata": {
        "id": "WOc39ruo_VMZ"
      },
      "execution_count": null,
      "outputs": []
    }
  ]
}